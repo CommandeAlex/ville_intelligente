{
  "nbformat": 4,
  "nbformat_minor": 0,
  "metadata": {
    "language_info": {
      "codemirror_mode": {
        "name": "ipython",
        "version": 2
      },
      "file_extension": ".py",
      "mimetype": "text/x-python",
      "name": "python",
      "nbconvert_exporter": "python",
      "pygments_lexer": "ipython2",
      "version": "2.7.6"
    },
    "kernelspec": {
      "name": "python3",
      "language": "python",
      "display_name": "Python 3"
    },
    "colab": {
      "name": "Simulation.ipynb",
      "provenance": [],
      "collapsed_sections": []
    }
  },
  "cells": [
    {
      "cell_type": "code",
      "metadata": {
        "collapsed": true,
        "pycharm": {
          "is_executing": false
        },
        "colab": {
          "base_uri": "https://localhost:8080/"
        },
        "id": "flrDmEC33ADc",
        "outputId": "cc73566a-78d8-40b6-fddf-d5c4ef313044"
      },
      "source": [
        "print(\"hello\")"
      ],
      "execution_count": 1,
      "outputs": [
        {
          "output_type": "stream",
          "text": [
            "hello\n"
          ],
          "name": "stdout"
        }
      ]
    },
    {
      "cell_type": "code",
      "metadata": {
        "pycharm": {
          "metadata": false,
          "name": "#%%\n",
          "is_executing": false
        },
        "colab": {
          "base_uri": "https://localhost:8080/"
        },
        "id": "5ui3UWiT3ADj",
        "outputId": "00d8a734-8799-418e-a8fe-5e9dadffd61d"
      },
      "source": [
        "! pip install mip\r\n",
        "# Mixed Integer Linear Programming\r\n",
        "from mip import *"
      ],
      "execution_count": 3,
      "outputs": [
        {
          "output_type": "stream",
          "text": [
            "Collecting mip\n",
            "\u001b[?25l  Downloading https://files.pythonhosted.org/packages/e5/7c/615a417b8b74dde4c3573f09c79612e3e0ed8c9b9488daf67e86cde350d2/mip-1.13.0-py3-none-any.whl (48.0MB)\n",
            "\u001b[K     |████████████████████████████████| 48.0MB 93kB/s \n",
            "\u001b[?25hRequirement already satisfied: cffi in /usr/local/lib/python3.6/dist-packages (from mip) (1.14.4)\n",
            "Requirement already satisfied: pycparser in /usr/local/lib/python3.6/dist-packages (from cffi->mip) (2.20)\n",
            "Installing collected packages: mip\n",
            "Successfully installed mip-1.13.0\n"
          ],
          "name": "stdout"
        }
      ]
    },
    {
      "cell_type": "markdown",
      "metadata": {
        "pycharm": {
          "metadata": false,
          "name": "#%% md\n"
        },
        "id": "4FAYmF2p3ADj"
      },
      "source": [
        "MODULE 1"
      ]
    },
    {
      "cell_type": "code",
      "metadata": {
        "pycharm": {
          "metadata": false,
          "name": "#%%\n",
          "is_executing": false
        },
        "id": "Rcv9LLWW3ADk"
      },
      "source": [
        "def module1(GPh,disutility,t,E,SD,IE,P1,MinC,MaxC,SP,RQ,beta,Lmax):\n",
        "    \"\"\" \n",
        "    Entrées : Différents paramètres des maisons, leurs machines, stockages et énergies renouvelables.\n",
        "    Sorties : Le cout sur toute la durée de l'expérience, sans aucun trading.\n",
        "              A chaque pas de temps, offre/demande de la maison en enrgie sur la Microgrid \n",
        "    \"\"\"\n",
        "    m = Model(sense=MINIMIZE,solver_name=CBC)\n",
        "    \n",
        "    # Consommation d'énergie de la grille forunisseur par la maison.\n",
        "    # Contrainte 15 : GE < Lmax \n",
        "    GE = [ m.add_var(name='GE'+str(i),ub=Lmax,lb=0) for i in range(1,25)]\n",
        "    \n",
        "    # Heures d'activation de la machine dans la maison\n",
        "    S = [ m.add_var(name='S'+str(i),var_type=BINARY) for i in range(1,25)]\n",
        "\n",
        "    # Heures de charge de la batterie dans la maison\n",
        "    IC = [ m.add_var(name='IC'+str(i),var_type=BINARY) for i in range(1,25)]\n",
        "    \n",
        "    # Consommation d'énerge de la batterie à chaque heure\n",
        "    BE = [ m.add_var(name='BE'+str(i)) for i in range(1,25)]\n",
        "    \n",
        "    # Consomation d'énergie renouvelable à chaque heure\n",
        "    # Contrainte 9: RE < RQ, on ne consomme pas plus que l'on ne produit\n",
        "    RE = [ m.add_var(name='RE'+str(i),ub=RQ[i-1]) for i in range(1,25) ]\n",
        "    \n",
        "    # Niveau decharge de la batterie à chaque heure\n",
        "    # Contraintes 6 et 7 : MinC < SE < MaxC\n",
        "    SE = [ m.add_var(name='SE'+str(i),ub=MaxC,lb=MinC) for i in range(1,25)]\n",
        "    \n",
        "    # Heure de fin de fonctionnement de la machine\n",
        "    # Contrainte 12 : Tau < Beta, La machine doit avoir terminé avant telle heure\n",
        "    tau = m.add_var(name='Tau',ub=beta)\n",
        "    \n",
        "    # Equilibre énergétique sans échange sur microgrid\n",
        "    # Contrainte 3 : Consommation = Production\n",
        "    # Consommation = Machine_active * puissance + charge de la batterie\n",
        "    # Production : Energie de la grille, DU stockage et renouvelable \n",
        "    for h in range(0,24):\n",
        "        m+= (S[h]*P1 + IC[h]*SP == GE[h] + BE[h] + RE[h]) \n",
        "    \n",
        "    # Niveau d'énergie initial dans le stockage\n",
        "    # Contrainte 4 : \n",
        "    # Niveau = Initial * coeff_perte + Charge? * Valeur de charge * efficatité - Energie consommée \n",
        "    m+= SE[0] == IE*SD + IC[0]*SP*E-BE[0]\n",
        "    \n",
        "    # Niveau d'énergie dans le stockage à un moment h\n",
        "    # Contrainte 5 : \n",
        "    # Niveau = Niveau précédent * coeff_perte + Charge? * Valeur de charge * efficatité - Energie consommée \n",
        "    for h in range(1,24):\n",
        "        m+= SE[h] == SE[h-1]*SD  + IC[h]*SP*E-BE[h]\n",
        "    \n",
        "    # La machine doit faire ses t heures de travails\n",
        "    # Contrainte 8 : Somme des activations = durée d'activation de la machine\n",
        "    m+= xsum(S[h] for h in range(24)) == t\n",
        "    \n",
        "    # La machine doit finir à la date où elle finit\n",
        "    #Contrainte 11 : dernière activation <= tau\n",
        "    for h in range(24):\n",
        "        m+= (h+1)*S[h] <= tau\n",
        "    \n",
        "    # End constraint\n",
        "    \n",
        "    # Fonction objectif\n",
        "    m.objective = xsum(GPh[h] * GE[h] for h in range(24)) + disutility*tau\n",
        "\n",
        "    # Résolution\n",
        "    m.max_gap = 0.01\n",
        "    status = m.optimize(max_seconds=30)\n",
        "    \"\"\"\n",
        "    if status == OptimizationStatus.OPTIMAL:\n",
        "        print('optimal solution cost {} found'.format(m.objective_value))\n",
        "    elif status == OptimizationStatus.FEASIBLE:\n",
        "        print('sol.cost {} found, best possible: {}'.format(m.objective_value, m.objective_bound))\n",
        "    elif status == OptimizationStatus.NO_SOLUTION_FOUND:\n",
        "        print('no feasible solution found, lower bound is: {}'.format(m.objective_bound))\n",
        "    if status == OptimizationStatus.OPTIMAL or status == OptimizationStatus.FEASIBLE:\n",
        "        print('solution:')\n",
        "        for v in m.vars:\n",
        "        if abs(v.x) > 1e-6: # only printing non-zeros\n",
        "           print('{} : {}'.format(v.name, v.x))\n",
        "    if status == OptimizationStatus.INFEASIBLE:\n",
        "        print(\"Infeasible\")\n",
        "    \"\"\"\n",
        "    # Se référe à la contrainte 16\n",
        "    # DSk reprend la demande ou l'offre de la maisn à qhaue pas de temps, en ne considérant\n",
        "    # la batterie et l'énergie renouvelable.\n",
        "    # Positif si il y a un besoin\n",
        "    # Negatif si il y a un surplus\n",
        "    dsk = []\n",
        "    \n",
        "    # Récupération des valeurs\n",
        "    for i in range(24):\n",
        "        dsk.append(m.vars['S'+str(i+1)].x*P1 + m.vars['IC'+str(i+1)].x*SP - RQ[i]-\n",
        "                   m.vars['SE'+str(i+1)].x-m.vars['BE'+str(i+1)].x+MinC)\n",
        "    return m.objective_bound,dsk\n"
      ],
      "execution_count": 4,
      "outputs": []
    },
    {
      "cell_type": "markdown",
      "metadata": {
        "pycharm": {
          "metadata": false
        },
        "id": "AZCP-Jbw3ADk"
      },
      "source": [
        "MODULE 2"
      ]
    },
    {
      "cell_type": "code",
      "metadata": {
        "pycharm": {
          "metadata": false,
          "name": "#%%\n",
          "is_executing": false
        },
        "id": "ow40XvYE3ADl"
      },
      "source": [
        "\n",
        "def module2(GPh,disutility,t,E,SD,IE,P1,MinC,MaxC,SP,RQ,beta,Lmax,CK_noTrade_1,ME_1\n",
        "            ,disutility2,t2,E2,SD2,IE2,P2,MinC2,MaxC2,SP2,RQ2,beta2,CK_noTrade_2,ME_2):\n",
        "  \n",
        "    \"\"\"\n",
        "    Entrées : Les paramètres des différentes maisons comme dans le module 1, mais en plus\n",
        "              leur valeurs de DSK qui ont ici le nom de ME, si l'on est à la première passe \n",
        "              de l'itération dans ECO-TRADE. Sinon c'est le ME de sortie du module 3\n",
        "    Sorties : Le prix de l'énergie sur la MicroGrid \n",
        "    \"\"\"\n",
        " \n",
        "    m = Model(sense=MINIMIZE,solver_name=CBC)\n",
        "    \n",
        "    # Prix de l'énergie sur la microgrid aux différentes heures\n",
        "    # contraintes 22 et 23 : Le prix doit être positif et ne pas excéder le prix\n",
        "    # sur la grille du fournisseur\n",
        "    MP = [ m.add_var(name='MP'+str(i),ub=GPh[i-1],lb=0) for i in range(1,25)]\n",
        "    \n",
        "    # Maison 1\n",
        "    # Consommation d'énergie de la grille forunisseur par la maison.\n",
        "    # Contrainte 15 : GE < Lmax \n",
        "    GE_1 = [ m.add_var(name='GE_1'+str(i),ub=Lmax,lb=0) for i in range(1,25)]\n",
        "    \n",
        "    # Heures d'activation de la machine dans la maison\n",
        "    S_1 = [ m.add_var(name='S_1'+str(i),var_type=BINARY) for i in range(1,25)]\n",
        "\n",
        "    # Heures de charge de la batterie dans la maison\n",
        "    IC_1 = [ m.add_var(name='IC_1'+str(i),var_type=BINARY) for i in range(1,25)]\n",
        "\n",
        "    # Consommation d'énerge de la batterie à chaque heure\n",
        "    BE_1 = [ m.add_var(name='BE_1'+str(i)) for i in range(1,25)]\n",
        "\n",
        "    # Consomation d'énergie renouvelable à chaque heure\n",
        "    # Contrainte 9: RE < RQ, on ne consomme pas plus que l'on ne produit\n",
        "    RE_1 = [ m.add_var(name='RE_1'+str(i),ub=RQ[i-1]) for i in range(1,25) ]\n",
        "    \n",
        "    # Niveau decharge de la batterie à chaque heure\n",
        "    # Contraintes 6 et 7 : MinC < SE < MaxC\n",
        "    SE_1 = [ m.add_var(name='SE_1'+str(i),ub=MaxC,lb=MinC) for i in range(1,25)]\n",
        "    \n",
        "    # Heure de fin de fonctionnement de la machine\n",
        "    # Contrainte 12 : Tau < Beta, La machine doit avoir terminé avant telle heure\n",
        "    tau_1 = m.add_var(name='Tau_1',ub=beta)\n",
        "    \n",
        "    # Maison 2\n",
        "    # Consommation d'énergie de la grille forunisseur par la maison.\n",
        "    # Contrainte 15 : GE < Lmax \n",
        "    GE_2 = [ m.add_var(name='GE_2'+str(i),ub=Lmax,lb=0) for i in range(1,25)]\n",
        "    \n",
        "    # Heures d'activation de la machine dans la maison\n",
        "    S_2 = [ m.add_var(name='S_2'+str(i),var_type=BINARY) for i in range(1,25)]\n",
        "    \n",
        "    # Heures de charge de la batterie dans la maison\n",
        "    IC_2 = [ m.add_var(name='IC_2'+str(i),var_type=BINARY) for i in range(1,25)]\n",
        "\n",
        "    # Consommation d'énerge de la batterie à chaque heure\n",
        "    BE_2 = [ m.add_var(name='BE_2'+str(i)) for i in range(1,25)]\n",
        "  \n",
        "    # Consomation d'énergie renouvelable à chaque heure\n",
        "    # Contrainte 9: RE < RQ, on ne consomme pas plus que l'on ne produit\n",
        "    RE_2 = [ m.add_var(name='RE_2'+str(i),ub=RQ2[i-1]) for i in range(1,25) ]\n",
        "\n",
        "    # Niveau decharge de la batterie à chaque heure\n",
        "    # Contraintes 6 et 7 : MinC < SE < MaxC\n",
        "    SE_2 = [ m.add_var(name='SE_2'+str(i),ub=MaxC2,lb=MinC2) for i in range(1,25)]\n",
        "    \n",
        "    # Heure de fin de fonctionnement de la machine\n",
        "    # Contrainte 12 : Tau < Beta, La machine doit avoir terminé avant telle heure\n",
        "    tau_2 = m.add_var(name='Tau_2',ub=beta2)\n",
        "\n",
        "    # Contraintes\n",
        "    \n",
        "    # Niveau d'énergie dans le stockage\n",
        "    # Contrainte 4 et 5: \n",
        "    # Niveau = Initial * coeff_perte + Charge? * Valeur de charge * efficatité - Energie consommée \n",
        "    m+= SE_1[0] == IE*SD + IC_1[0]*SP*E-BE_1[0]\n",
        "    m+= SE_2[0] == IE2*SD2 + IC_2[0]*SP2*E2-BE_2[0]\n",
        "    \n",
        "    # Niveau = Niveau précédent * coeff_perte + Charge? * Valeur de charge * efficatité - Energie consommée \n",
        "    for h in range(1,24):\n",
        "        m+= SE_1[h] == SE_1[h-1]*SD  + IC_1[h]*SP*E-BE_1[h]\n",
        "        m+= SE_2[h] == SE_2[h-1]*SD2  + IC_2[h]*SP2*E2-BE_2[h]\n",
        "    \n",
        "    # La machine doit faire ses t heures de travails\n",
        "    # Contrainte 8 : Somme des activations = durée d'activation de la machine\n",
        "    m+= xsum(S_1[h] for h in range(24)) == t\n",
        "    m+= xsum(S_2[h] for h in range(24)) == t2\n",
        "\n",
        "    # La machine doit finir à la date où elle finit\n",
        "    # Contrainte 11 : dernière activation <= tau\n",
        "    for h in range(24):\n",
        "        m+= (h+1)*S_1[h] <= tau_1\n",
        "        m+= (h+1)*S_2[h] <= tau_2\n",
        "        \n",
        "    # Equilibre énergétique avec la microgrid\n",
        "    # Contrainte 21\n",
        "    for h in range(0,24):\n",
        "            m+= (S_1[h]*P1 + IC_1[h]*SP <= GE_1[h] + BE_1[h] + RE_1[h] + ME_1[h]) \n",
        "            m+= (S_2[h]*P2 + IC_2[h]*SP2 <= GE_2[h] + BE_2[h] + RE_2[h] + ME_2[h]) \n",
        "    \n",
        "    # Equilibre de Pareto : l'échange doit être profitable pour tous\n",
        "    #Constrain 24\n",
        "    m+= xsum( GPh[h] * GE_1[h] + MP[h] * ME_1[h]  for h in range(24)) + disutility*tau_1 <= CK_noTrade_1\n",
        "    m+= xsum(GPh[h] * GE_2[h]+ MP[h]*ME_2[h] for h in range(24)) + disutility2*tau_2 <= CK_noTrade_2\n",
        "    \n",
        "    m.objective = xsum(GPh[h] * GE_1[h] + GPh[h] * GE_2[h] for h in range(24)) + disutility*tau_1 + disutility2*tau_2\n",
        "    m.max_gap = 0.01\n",
        "    status = m.optimize(max_seconds=30)\n",
        "    \"\"\"\n",
        "    if status == OptimizationStatus.OPTIMAL:\n",
        "        print('optimal solution cost {} found'.format(m.objective_value))\n",
        "    elif status == OptimizationStatus.FEASIBLE:\n",
        "        print('sol.cost {} found, best possible: {}'.format(m.objective_value, m.objective_bound))\n",
        "    elif status == OptimizationStatus.NO_SOLUTION_FOUND:\n",
        "        print('no feasible solution found, lower bound is: {}'.format(m.objective_bound))\n",
        "    if status == OptimizationStatus.OPTIMAL or status == OptimizationStatus.FEASIBLE:\n",
        "        print('solution:')\n",
        "        for v in m.vars:\n",
        "        if abs(v.x) > 1e-6: # only printing non-zeros\n",
        "           print('{} : {}'.format(v.name, v.x))\n",
        "    if status == OptimizationStatus.INFEASIBLE:\n",
        "                   print(\"Infeasible\")\n",
        "    \"\"\"\n",
        "    MP_out = [] # prix de l'énergie sur la microgrid à la résolution\n",
        "    for i in range(24):\n",
        "        MP_out.append(m.vars['MP'+str(i+1)].x)\n",
        "    return MP_out"
      ],
      "execution_count": 6,
      "outputs": []
    },
    {
      "cell_type": "markdown",
      "metadata": {
        "pycharm": {
          "metadata": false
        },
        "id": "SUDKvUge3ADl"
      },
      "source": [
        "MODULE 3"
      ]
    },
    {
      "cell_type": "code",
      "metadata": {
        "pycharm": {
          "metadata": false,
          "name": "#%%\n",
          "is_executing": false
        },
        "id": "3Y09Sns73ADm"
      },
      "source": [
        "import math\n",
        "def module3(GPh,disutility1,t1,E1,SD1,IE1,P1,MinC1,MaxC1,SP1,RQ1,beta1,Lmax,CK_noTrade_1,MP\n",
        "            ,disutility2,t2,E2,SD2,IE2,P2,MinC2,MaxC2,SP2,RQ2,beta2,CK_noTrade_2):\n",
        "    m = Model(sense=MINIMIZE,solver_name=CBC)\n",
        "\n",
        "    # Beaucoup de variables sont similaires aux modules 1 et 2 \n",
        "\n",
        "    # Les nouvelles : \n",
        "    # Mp est fixée par le module 2 précédent\n",
        "    # on cherhce maintenant à déterminer l'échange d'énergie sur la microgrid\n",
        "    \n",
        "    \n",
        "    GE_1 = [ m.add_var(name='GE_1'+str(i),ub=Lmax,lb=0) for i in range(1,25)]\n",
        "    S_1 = [ m.add_var(name='S_1'+str(i),var_type=BINARY) for i in range(1,25)]\n",
        "    IC_1 = [ m.add_var(name='IC_1'+str(i),var_type=BINARY) for i in range(1,25)]\n",
        "    BE_1 = [ m.add_var(name='BE_1'+str(i)) for i in range(1,25)]\n",
        "    RE_1 = [ m.add_var(name='RE_1'+str(i),ub=RQ1[i-1]) for i in range(1,25) ]\n",
        "    SE_1 = [ m.add_var(name='SE_1'+str(i),ub=MaxC1,lb=MinC1) for i in range(1,25)]\n",
        "    ME_1 = [ m.add_var(name='ME1'+str(i),lb=-math.inf,ub=math.inf) for i in range(1,25)]\n",
        "    tau_1 = m.add_var(name='Tau_1',ub=beta1)\n",
        "    #Demande ou surplus d'énergie sur la microgrid\n",
        "    MQ_1 = [ m.add_var(name='MQ1'+str(i),lb=-math.inf,ub=math.inf) for i in range(1,25)]\n",
        "    \n",
        "    GE_2 = [ m.add_var(name='GE_2'+str(i),ub=Lmax,lb=0) for i in range(1,25)]\n",
        "    S_2 = [ m.add_var(name='S_2'+str(i),var_type=BINARY) for i in range(1,25)]\n",
        "    IC_2 = [ m.add_var(name='IC_2'+str(i),var_type=BINARY) for i in range(1,25)]\n",
        "    BE_2 = [ m.add_var(name='BE_2'+str(i)) for i in range(1,25)]\n",
        "    RE_2 = [ m.add_var(name='RE_2'+str(i),ub=RQ2[i-1]) for i in range(1,25) ]\n",
        "    SE_2 = [ m.add_var(name='SE_2'+str(i),ub=MaxC2,lb=MinC2) for i in range(1,25)]\n",
        "    ME_2 = [ m.add_var(name='ME2'+str(i),lb=-math.inf,ub=math.inf) for i in range(1,25)]\n",
        "    tau_2 = m.add_var(name='Tau_2',ub=beta2)\n",
        "    #Demande ou surplus d'énergie sur la microgrid\n",
        "    MQ_2 = [ m.add_var(name='MQ2'+str(i),lb=-math.inf,ub=math.inf) for i in range(1,25)]\n",
        "    \n",
        "    \n",
        "    #Contrainte 4&5\n",
        "    m+= SE_1[0] == IE1*SD1 + IC_1[0]*SP1*E1-BE_1[0]\n",
        "    m+= SE_2[0] == IE2*SD2 + IC_2[0]*SP2*E2-BE_1[0]\n",
        "    \n",
        "    for h in range(1,24):\n",
        "        m+= SE_1[h] == SE_1[h-1]*SD1 + IC_1[h]*SP1*E1-BE_1[h]\n",
        "        m+= SE_2[h] == SE_2[h-1]*SD2  + IC_2[h]*SP2*E2-BE_2[h]\n",
        "    #Contrainte 8\n",
        "    m+= xsum(S_1[h] for h in range(24)) == t1\n",
        "    m+= xsum(S_2[h] for h in range(24)) == t2\n",
        "    #Contrainte 11\n",
        "    for h in range(24):\n",
        "        m+= (h+1)*S_1[h] <= tau_1\n",
        "        m+= (h+1)*S_2[h] <= tau_2\n",
        "        \n",
        "    #Constrain 25\n",
        "    for h in range(0,24):\n",
        "            m+= (S_1[h]*P1 + IC_1[h]*SP1 == GE_1[h] + BE_1[h] + RE_1[h] + ME_1[h]) \n",
        "            m+= (S_2[h]*P2 + IC_2[h]*SP2 == GE_2[h] + BE_2[h] + RE_2[h] + ME_2[h]) \n",
        "    #Constrain 24\n",
        "    m+= xsum(GPh[h] * GE_1[h] + MP[h] * ME_1[h]  for h in range(24)) + disutility1*tau_1 <= CK_noTrade_1\n",
        "    m+= xsum(GPh[h] * GE_2[h]+ MP[h]*ME_2[h] for h in range(24)) + disutility2*tau_2 <= CK_noTrade_2\n",
        "    \n",
        "    #Constrain 26\n",
        "    for h in range(24):\n",
        "        m+= ME_1[h]  + ME_2[h]  == 0\n",
        "\n",
        "    #Constrain 27\n",
        "    for h in range(24):\n",
        "        m+= MQ_1[h] == (S_1[h]*P1+IC_1[h]*SP1 - GE_1[h] - RQ1[h]-SE_1[h] - BE_1[h]) + MinC1\n",
        "        m+= MQ_2[h] == (S_2[h]*P2+IC_2[h]*SP2 - GE_2[h] - RQ2[h]-SE_2[h] - BE_2[h]) + MinC2\n",
        "     \n",
        "\n",
        "    #Constrain 28\n",
        "    for h in range(24):\n",
        "        m+=ME_1[h] >= MQ_1[h]\n",
        "        m+=ME_2[h] >= MQ_2[h]\n",
        "   \n",
        "    m.objective = xsum(GPh[h] * GE_1[h] + GPh[h] * GE_2[h] for h in range(24)) + disutility1*tau_1 + disutility2*tau_2\n",
        "    \n",
        "    m.max_gap = 0.01\n",
        "    status = m.optimize(max_seconds=30)\n",
        "    \"\"\"\n",
        "    if status == OptimizationStatus.OPTIMAL:\n",
        "        print('optimal solution cost {} found'.format(m.objective_value))\n",
        "    elif status == OptimizationStatus.FEASIBLE:\n",
        "        print('sol.cost {} found, best possible: {}'.format(m.objective_value, m.objective_bound))\n",
        "    elif status == OptimizationStatus.NO_SOLUTION_FOUND:\n",
        "        print('no feasible solution found, lower bound is: {}'.format(m.objective_bound))\n",
        "    if status == OptimizationStatus.OPTIMAL or status == OptimizationStatus.FEASIBLE:\n",
        "    print('solution:')\n",
        "    for v in m.vars:\n",
        "       if abs(v.x) > 1e-6: # only printing non-zeros\n",
        "          print('{} : {}'.format(v.name, v.x))\n",
        "    if status == OptimizationStatus.INFEASIBLE:\n",
        "                   print(\"Infeasible\")\n",
        "    \"\"\"\n",
        "    ME_1_out = []\n",
        "    ME_2_out = []\n",
        "    GE_1_out = []\n",
        "    GE_2_out = []\n",
        "    SE_1_out = []\n",
        "    SE_2_out = []\n",
        "    S_1_out = []\n",
        "    S_2_out = []\n",
        "    for i in range(24):\n",
        "        ME_1_out.append(m.vars['ME1'+str(i+1)].x)\n",
        "        ME_2_out.append(m.vars['ME2'+str(i+1)].x)\n",
        "        GE_1_out.append(m.vars['GE_1'+str(i+1)].x)\n",
        "        GE_2_out.append(m.vars['GE_2'+str(i+1)].x)\n",
        "        SE_1_out.append(m.vars['SE_1'+str(i+1)].x)\n",
        "        SE_2_out.append(m.vars['SE_2'+str(i+1)].x)\n",
        "        S_1_out.append(m.vars['S_1'+str(i+1)].x)\n",
        "        S_2_out.append(m.vars['S_2'+str(i+1)].x)\n",
        "    return m.objective_bound,[ME_1_out,ME_2_out],[GE_1_out,GE_2_out],[SE_1_out,SE_2_out],[S_1_out,S_2_out]\n",
        "    "
      ],
      "execution_count": 7,
      "outputs": []
    },
    {
      "cell_type": "code",
      "metadata": {
        "pycharm": {
          "metadata": false,
          "name": "#%%\n",
          "is_executing": false
        },
        "colab": {
          "base_uri": "https://localhost:8080/",
          "height": 412
        },
        "id": "QW_8G61I3ADn",
        "outputId": "6b987927-f00b-4f5e-e430-d1ae607b86e2"
      },
      "source": [
        "# ECO-TRADE Algorithm\n",
        "GPh = [0.13,0.13,0.13,0.13,0.13,0.13,0.13,0.13,0.15,0.15,0.15,0.15,0.15,0.17,0.17,0.17,0.17,0.15,0.15,0.15,0.13,0.13,0.13,0.13]\n",
        "Lmax = 6000\n",
        "#initialisation maison1\n",
        "disutility1 = 0.1 # coefficient mitigant le cout du délai d'une machine\n",
        "t1 = 3  # temps d'activation de la machine 1 nécessaire pour réaliser sa tâche\n",
        "E1 = 0.1  # Efficacité du stockage \n",
        "IE1 = 2.6 # Energie stockée initialement\n",
        "SD1 = 1 # Coefficient de perte du stockage\n",
        "P1 = 1800  # Puissance de la machine\n",
        "MinC1 = 2.6 # min stockage\n",
        "MaxC1 = 6.4 # max stockage\n",
        "SP1 = 1 # Charge du stockage se fait de SP en SP\n",
        "RQ1 = [1 for _ in range(24)]  # Energie renouvelable produite\n",
        "beta1 = 12 # date final piur l'execution d'une tâche\n",
        "\n",
        "# initialisation maison2\n",
        "disutility2 = 0.2 # coefficient mitigant le cout du délai d'une machine\n",
        "t2 = 10   # temps d'activation de la machine 1 nécessaire pour réaliser sa tâche\n",
        "E2 = 0.1 # Efficacité du stockage \n",
        "IE2 = 0 # Energie stockée initialement\n",
        "SD2 = 1 # Coefficient de perte du stockage\n",
        "P2= 800  # Puissance de la machine\n",
        "MinC2 = 0 # min stockage\n",
        "MaxC2 = 10# max stockage\n",
        "SP2 = 0.1  # Charge du stockage se fait de SP en SP\n",
        "RQ2 = [0.1 for _ in range(24)]  # Energie renouvelable produite\n",
        "beta2 = 23 # date final piur l'execution d'une tâche\n",
        "\n",
        "\n",
        "# paramètres et variable pour ECO-TRADE\n",
        "appliance = None\n",
        "epsilon_count, epsilon_max, Cpre = 0, 3, 0\n",
        "Ccur, epsilon_cur, epsilon = 1, 0, 0.7\n",
        "\n",
        "#initialisation des CK_not_Trade : Module 1 pour chaque maison\n",
        "CK_NoTrade_1,DSK1 = module1(GPh,disutility1,t1,E1,SD1,IE1,P1,MinC1,MaxC1,SP1,RQ1,beta1,Lmax)\n",
        "CK_NoTrade_2,DSK2 = module1(GPh,disutility1,t2,E2,SD2,IE2,P2,MinC2,MaxC2,SP2,RQ2,beta2,Lmax)\n",
        "Cpre = CK_NoTrade_1 + CK_NoTrade_2\n",
        "\n",
        "prix = 0\n",
        "echange = None\n",
        "fin = None\n",
        "batterie = None\n",
        "print(\"Cost at initialization :\", Cpre)\n",
        "i = 1\n",
        "# Boucle\n",
        "while epsilon_count <= epsilon_max:\n",
        "    print(\"*****************************\"+str(i)+\"**************\")\n",
        "    i+=1\n",
        "    \n",
        "    prix = module2(GPh,disutility1,t1,E1,SD1,IE1,P1,MinC1,MaxC1,SP1,RQ1,beta1,Lmax,CK_NoTrade_1,DSK1\n",
        "            ,disutility1,t2,E2,SD2,IE2,P2,MinC2,MaxC2,SP2,RQ2,beta2,CK_NoTrade_2,DSK2)\n",
        "    \n",
        "    Ccur, fin,echange,batterie,appliance = module3(GPh,disutility1,t1,E1,SD1,IE1,P1,MinC1,MaxC1,SP1,RQ1,beta1,Lmax,CK_NoTrade_1,prix\n",
        "            ,disutility1,t2,E2,SD2,IE2,P2,MinC2,MaxC2,SP2,RQ2,beta2,CK_NoTrade_2)\n",
        "    \n",
        "    epsilon_cur = abs((Cpre - Ccur)/Cpre)\n",
        "\n",
        "    if epsilon_cur <= epsilon:\n",
        "        epsilon_count += 1\n",
        "    else:\n",
        "        epsilon_count = 0\n",
        "    Cpre = Ccur\n",
        "# final solution :\n",
        "print(\"Solution :\", fin)\n",
        "\n"
      ],
      "execution_count": 8,
      "outputs": [
        {
          "output_type": "stream",
          "text": [
            "End constraint\n",
            "End constraint\n",
            "Cost at initialization : 1743.8994007282472\n",
            "*****************************1**************\n",
            "end\n",
            "End constraint\n",
            "end\n",
            "*****************************2**************\n",
            "end\n",
            "End constraint\n",
            "end\n",
            "*****************************3**************\n",
            "end\n",
            "End constraint\n",
            "end\n",
            "*****************************4**************\n",
            "end\n",
            "End constraint\n",
            "end\n",
            "Solution : [[1801.0, 0.09999999999999999, 1798.8999999999999, -1.0, -1.0, -1.0, -799.9000000000001, -799.9, -0.0, -0.0, 0.0, 0.0, 0.0, 0.0, 0.0, 0.0, 0.0, 0.0, 0.0, 0.0, -799.7700000000001, -799.9000000000001, -0.9999999999999113, 0.0], [-1801.0, -0.09999999999999999, -1798.8999999999999, 1.0, 1.0, 1.0, 799.9000000000001, 799.9, 0.0, 0.0, -2.2204460492503132e-17, -2.2204460492503132e-17, -2.2204460492503132e-17, 0.0, 0.0, 0.0, 0.0, 0.0, 0.0, 0.0, 799.7700000000001, 799.9000000000001, 0.9999999999999113, 0.0]]\n"
          ],
          "name": "stdout"
        },
        {
          "output_type": "execute_result",
          "data": {
            "application/vnd.google.colaboratory.intrinsic+json": {
              "type": "string"
            },
            "text/plain": [
              "'\\nprint(\"Cost at initialization :\", Cpre)\\nwhile epsilon_count <= epsilon_max:\\n    module2()\\n    Ccur, x = module3()\\n\\n    epsilon_cur = abs((Cpre - Ccur)/Cpre)\\n    if epsilon_cur <= epsilon:\\n        epsilon_count += 1\\n    else:\\n        epsilon_count = 0\\n    Cpre = Ccur\\n\\n# final solution :\\nprint(\"Solution :\", x)\\n'"
            ]
          },
          "metadata": {
            "tags": []
          },
          "execution_count": 8
        }
      ]
    },
    {
      "cell_type": "code",
      "metadata": {
        "pycharm": {
          "metadata": false,
          "name": "#%%\n",
          "is_executing": false
        },
        "id": "N_ewcMXV3ADo"
      },
      "source": [
        "#on affiche prix grille, prix microgrille\n",
        "#Tire grille, tire microgrille\n",
        "#stockage de chaque batterie + prod nrj renouvlable\n",
        "prix_micro = prix\n",
        "prix_grille = GPh\n",
        "echange_micro_1 = fin[0]\n",
        "echange_micro_2 = fin[1]\n",
        "import_grille_1 = echange[0]\n",
        "import_grille_2 = echange[1]\n",
        "storage_batterie_1 = batterie[0]\n",
        "storage_batterie_2 = batterie[1]\n",
        "nrj_renouvlable_1 = RQ1\n",
        "nrj_renouvlable_2 = RQ2\n",
        "appliance_1 = appliance[0]\n",
        "appliance_2 = appliance[1]\n"
      ],
      "execution_count": 9,
      "outputs": []
    },
    {
      "cell_type": "code",
      "metadata": {
        "pycharm": {
          "metadata": false,
          "name": "#%%\n",
          "is_executing": false
        },
        "colab": {
          "base_uri": "https://localhost:8080/",
          "height": 296
        },
        "id": "HV5zVKbR3ADo",
        "outputId": "8401b385-a9fd-44cf-f131-1d9c58a4ab9f"
      },
      "source": [
        "import matplotlib.pyplot as plt\n",
        "\n",
        "plt.plot([x for x in range(len(prix_micro))],prix_micro,label='Prix microgrid')\n",
        "plt.plot([x for x in range(len(prix_grille))],prix_grille,label='Prix MAXIgrid')\n",
        "plt.xlabel(\"Heure dans la journée\")\n",
        "plt.ylabel(\"€/kWh\")\n",
        "plt.title(\"Prix éléctricité\")\n",
        "\n",
        "plt.legend()\n",
        "plt.show()"
      ],
      "execution_count": 10,
      "outputs": [
        {
          "output_type": "display_data",
          "data": {
            "image/png": "[encoded data removed]",
            "text/plain": [
              "<Figure size 432x288 with 1 Axes>"
            ]
          },
          "metadata": {
            "tags": [],
            "needs_background": "light"
          }
        }
      ]
    },
    {
      "cell_type": "code",
      "metadata": {
        "pycharm": {
          "metadata": false,
          "name": "#%%\n",
          "is_executing": false
        },
        "colab": {
          "base_uri": "https://localhost:8080/",
          "height": 296
        },
        "id": "Jfj6IXtA3ADp",
        "outputId": "f7daa64d-95fd-4262-8257-50ad7ef3397d"
      },
      "source": [
        "\n",
        "plt.plot([x for x in range(len(echange_micro_1))],echange_micro_1,label='Echange maison 1 microgrid')\n",
        "plt.plot([x for x in range(len(echange_micro_2))],echange_micro_2,label='Echange maison 2 microgrid')\n",
        "plt.plot([x for x in range(len(import_grille_1))],import_grille_1,label='Echange maison 1 grid')\n",
        "plt.plot([x for x in range(len(import_grille_2))],import_grille_2,label='Echange maison 2 grid')\n",
        "plt.xlabel(\"Heure dans la journée\")\n",
        "plt.ylabel(\"kWh\")\n",
        "plt.title(\"Electricité échangée\")\n",
        "plt.legend()\n",
        "plt.show()"
      ],
      "execution_count": 11,
      "outputs": [
        {
          "output_type": "display_data",
          "data": {
            "image/png": "[encoded data removed]",
            "text/plain": [
              "<Figure size 432x288 with 1 Axes>"
            ]
          },
          "metadata": {
            "tags": [],
            "needs_background": "light"
          }
        }
      ]
    },
    {
      "cell_type": "code",
      "metadata": {
        "pycharm": {
          "metadata": false,
          "name": "#%%\n",
          "is_executing": false
        },
        "colab": {
          "base_uri": "https://localhost:8080/",
          "height": 296
        },
        "id": "vRo-EC7x3ADp",
        "outputId": "9231e03e-db67-445e-b07c-513f5a6e44ce"
      },
      "source": [
        "plt.plot([x for x in range(len(storage_batterie_1))],storage_batterie_1,label='Stockage 1')\n",
        "plt.plot([x for x in range(len(storage_batterie_2))],storage_batterie_2,label='Stockage 2')\n",
        "plt.xlabel(\"Heure dans la journée\")\n",
        "plt.ylabel(\"kWh\")\n",
        "plt.title(\"Stockage batterie\")\n",
        "plt.legend()\n",
        "plt.show()"
      ],
      "execution_count": 12,
      "outputs": [
        {
          "output_type": "display_data",
          "data": {
            "image/png": "[encoded data removed]",
            "text/plain": [
              "<Figure size 432x288 with 1 Axes>"
            ]
          },
          "metadata": {
            "tags": [],
            "needs_background": "light"
          }
        }
      ]
    },
    {
      "cell_type": "code",
      "metadata": {
        "pycharm": {
          "metadata": false,
          "name": "#%%\n",
          "is_executing": false
        },
        "colab": {
          "base_uri": "https://localhost:8080/",
          "height": 296
        },
        "id": "QRqok-qb3ADq",
        "outputId": "64a2f2a2-1319-4dcc-9610-32398bdf299e"
      },
      "source": [
        "plt.plot([x for x in range(len(appliance_1))],appliance_1,label=\"maison 1\")\n",
        "plt.plot([x for x in range(len(appliance_2))],appliance_2,label=\"maison 2\")\n",
        "plt.xlabel(\"Heure dans la journée\")\n",
        "plt.title(\"Fonction d'activation machine\")\n",
        "plt.legend()\n",
        "plt.show()"
      ],
      "execution_count": 13,
      "outputs": [
        {
          "output_type": "display_data",
          "data": {
            "image/png": "[encoded data removed]",
            "text/plain": [
              "<Figure size 432x288 with 1 Axes>"
            ]
          },
          "metadata": {
            "tags": [],
            "needs_background": "light"
          }
        }
      ]
    }
  ]
}