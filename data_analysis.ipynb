{
  "cells": [
    {
      "cell_type": "code",
      "execution_count": 2,
      "metadata": {
        "collapsed": true,
        "pycharm": {
          "is_executing": false
        }
      },
      "outputs": [],
      "source": "import pandas as pd\nimport matplotlib.pyplot as plt\n"
    },
    {
      "cell_type": "code",
      "execution_count": 3,
      "outputs": [
        {
          "data": {
            "text/plain": "utc_timestamp                           object\ncet_cest_timestamp                      object\nDE_KN_industrial1_grid_import          float64\nDE_KN_industrial1_pv_1                 float64\nDE_KN_industrial1_pv_2                 float64\nDE_KN_industrial2_grid_import          float64\nDE_KN_industrial2_pv                   float64\nDE_KN_industrial2_storage_charge       float64\nDE_KN_industrial2_storage_decharge     float64\nDE_KN_industrial3_area_offices         float64\nDE_KN_industrial3_area_room_1          float64\nDE_KN_industrial3_area_room_2          float64\nDE_KN_industrial3_area_room_3          float64\nDE_KN_industrial3_area_room_4          float64\nDE_KN_industrial3_compressor           float64\nDE_KN_industrial3_cooling_aggregate    float64\nDE_KN_industrial3_cooling_pumps        float64\nDE_KN_industrial3_dishwasher           float64\nDE_KN_industrial3_ev                   float64\nDE_KN_industrial3_grid_import          float64\nDE_KN_industrial3_machine_1            float64\nDE_KN_industrial3_machine_2            float64\nDE_KN_industrial3_machine_3            float64\nDE_KN_industrial3_machine_4            float64\nDE_KN_industrial3_machine_5            float64\nDE_KN_industrial3_pv_facade            float64\nDE_KN_industrial3_pv_roof              float64\nDE_KN_industrial3_refrigerator         float64\nDE_KN_industrial3_ventilation          float64\nDE_KN_public1_grid_import              float64\n                                        ...   \nDE_KN_residential2_washing_machine     float64\nDE_KN_residential3_circulation_pump    float64\nDE_KN_residential3_dishwasher          float64\nDE_KN_residential3_freezer             float64\nDE_KN_residential3_grid_export         float64\nDE_KN_residential3_grid_import         float64\nDE_KN_residential3_pv                  float64\nDE_KN_residential3_refrigerator        float64\nDE_KN_residential3_washing_machine     float64\nDE_KN_residential4_dishwasher          float64\nDE_KN_residential4_ev                  float64\nDE_KN_residential4_freezer             float64\nDE_KN_residential4_grid_export         float64\nDE_KN_residential4_grid_import         float64\nDE_KN_residential4_heat_pump           float64\nDE_KN_residential4_pv                  float64\nDE_KN_residential4_refrigerator        float64\nDE_KN_residential4_washing_machine     float64\nDE_KN_residential5_dishwasher          float64\nDE_KN_residential5_grid_import         float64\nDE_KN_residential5_refrigerator        float64\nDE_KN_residential5_washing_machine     float64\nDE_KN_residential6_circulation_pump    float64\nDE_KN_residential6_dishwasher          float64\nDE_KN_residential6_freezer             float64\nDE_KN_residential6_grid_export         float64\nDE_KN_residential6_grid_import         float64\nDE_KN_residential6_pv                  float64\nDE_KN_residential6_washing_machine     float64\ninterpolated                            object\nLength: 71, dtype: object"
          },
          "metadata": {},
          "output_type": "execute_result",
          "execution_count": 3
        }
      ],
      "source": "data \u003d pd.read_csv(\u0027Data/household_data_60min_singleindex.csv\u0027)\ndata.dtypes",
      "metadata": {
        "pycharm": {
          "metadata": false,
          "name": "#%%\n",
          "is_executing": false
        }
      }
    },
    {
      "cell_type": "markdown",
      "source": "First let\u0027s get rid of industrial data, we are just looking data about residential areas",
      "metadata": {
        "pycharm": {
          "metadata": false
        }
      }
    },
    {
      "cell_type": "code",
      "execution_count": 4,
      "outputs": [
        {
          "name": "stdout",
          "text": [
            "Index([\u0027utc_timestamp\u0027, \u0027cet_cest_timestamp\u0027, \u0027DE_KN_industrial1_grid_import\u0027,\n       \u0027DE_KN_industrial1_pv_1\u0027, \u0027DE_KN_industrial1_pv_2\u0027,\n       \u0027DE_KN_industrial2_grid_import\u0027, \u0027DE_KN_industrial2_pv\u0027,\n       \u0027DE_KN_industrial2_storage_charge\u0027,\n       \u0027DE_KN_industrial2_storage_decharge\u0027, \u0027DE_KN_industrial3_area_offices\u0027,\n       \u0027DE_KN_industrial3_area_room_1\u0027, \u0027DE_KN_industrial3_area_room_2\u0027,\n       \u0027DE_KN_industrial3_area_room_3\u0027, \u0027DE_KN_industrial3_area_room_4\u0027,\n       \u0027DE_KN_industrial3_compressor\u0027, \u0027DE_KN_industrial3_cooling_aggregate\u0027,\n       \u0027DE_KN_industrial3_cooling_pumps\u0027, \u0027DE_KN_industrial3_dishwasher\u0027,\n       \u0027DE_KN_industrial3_ev\u0027, \u0027DE_KN_industrial3_grid_import\u0027,\n       \u0027DE_KN_industrial3_machine_1\u0027, \u0027DE_KN_industrial3_machine_2\u0027,\n       \u0027DE_KN_industrial3_machine_3\u0027, \u0027DE_KN_industrial3_machine_4\u0027,\n       \u0027DE_KN_industrial3_machine_5\u0027, \u0027DE_KN_industrial3_pv_facade\u0027,\n       \u0027DE_KN_industrial3_pv_roof\u0027, \u0027DE_KN_industrial3_refrigerator\u0027,\n       \u0027DE_KN_industrial3_ventilation\u0027, \u0027DE_KN_public1_grid_import\u0027,\n       \u0027DE_KN_public2_grid_import\u0027, \u0027DE_KN_residential1_dishwasher\u0027,\n       \u0027DE_KN_residential1_freezer\u0027, \u0027DE_KN_residential1_grid_import\u0027,\n       \u0027DE_KN_residential1_heat_pump\u0027, \u0027DE_KN_residential1_pv\u0027,\n       \u0027DE_KN_residential1_washing_machine\u0027,\n       \u0027DE_KN_residential2_circulation_pump\u0027, \u0027DE_KN_residential2_dishwasher\u0027,\n       \u0027DE_KN_residential2_freezer\u0027, \u0027DE_KN_residential2_grid_import\u0027,\n       \u0027DE_KN_residential2_washing_machine\u0027,\n       \u0027DE_KN_residential3_circulation_pump\u0027, \u0027DE_KN_residential3_dishwasher\u0027,\n       \u0027DE_KN_residential3_freezer\u0027, \u0027DE_KN_residential3_grid_export\u0027,\n       \u0027DE_KN_residential3_grid_import\u0027, \u0027DE_KN_residential3_pv\u0027,\n       \u0027DE_KN_residential3_refrigerator\u0027, \u0027DE_KN_residential3_washing_machine\u0027,\n       \u0027DE_KN_residential4_dishwasher\u0027, \u0027DE_KN_residential4_ev\u0027,\n       \u0027DE_KN_residential4_freezer\u0027, \u0027DE_KN_residential4_grid_export\u0027,\n       \u0027DE_KN_residential4_grid_import\u0027, \u0027DE_KN_residential4_heat_pump\u0027,\n       \u0027DE_KN_residential4_pv\u0027, \u0027DE_KN_residential4_refrigerator\u0027,\n       \u0027DE_KN_residential4_washing_machine\u0027, \u0027DE_KN_residential5_dishwasher\u0027,\n       \u0027DE_KN_residential5_grid_import\u0027, \u0027DE_KN_residential5_refrigerator\u0027,\n       \u0027DE_KN_residential5_washing_machine\u0027,\n       \u0027DE_KN_residential6_circulation_pump\u0027, \u0027DE_KN_residential6_dishwasher\u0027,\n       \u0027DE_KN_residential6_freezer\u0027, \u0027DE_KN_residential6_grid_export\u0027,\n       \u0027DE_KN_residential6_grid_import\u0027, \u0027DE_KN_residential6_pv\u0027,\n       \u0027DE_KN_residential6_washing_machine\u0027, \u0027interpolated\u0027],\n      dtype\u003d\u0027object\u0027)\n"
          ],
          "output_type": "stream"
        }
      ],
      "source": "print(data.columns)",
      "metadata": {
        "pycharm": {
          "metadata": false,
          "name": "#%%\n",
          "is_executing": false
        }
      }
    },
    {
      "cell_type": "code",
      "execution_count": 6,
      "outputs": [
        {
          "data": {
            "text/plain": "         cet_cest_timestamp  DE_KN_residential1_dishwasher  \\\n0  2014-12-11T18:00:00+0100                            NaN   \n1  2014-12-11T19:00:00+0100                            NaN   \n2  2014-12-11T20:00:00+0100                            NaN   \n3  2014-12-11T21:00:00+0100                            NaN   \n\n   DE_KN_residential1_freezer  DE_KN_residential1_grid_import  \\\n0                         NaN                             NaN   \n1                         NaN                             NaN   \n2                         NaN                             NaN   \n3                         NaN                             NaN   \n\n   DE_KN_residential1_heat_pump  DE_KN_residential1_pv  \\\n0                           NaN                    NaN   \n1                           NaN                    NaN   \n2                           NaN                    NaN   \n3                           NaN                    NaN   \n\n   DE_KN_residential1_washing_machine  DE_KN_residential2_circulation_pump  \\\n0                                 NaN                                  NaN   \n1                                 NaN                                  NaN   \n2                                 NaN                                  NaN   \n3                                 NaN                                  NaN   \n\n   DE_KN_residential2_dishwasher  DE_KN_residential2_freezer  ...  \\\n0                            NaN                         NaN  ...   \n1                            NaN                         NaN  ...   \n2                            NaN                         NaN  ...   \n3                            NaN                         NaN  ...   \n\n   DE_KN_residential5_refrigerator  DE_KN_residential5_washing_machine  \\\n0                              NaN                                 NaN   \n1                              NaN                                 NaN   \n2                              NaN                                 NaN   \n3                              NaN                                 NaN   \n\n   DE_KN_residential6_circulation_pump  DE_KN_residential6_dishwasher  \\\n0                                  NaN                            NaN   \n1                                  NaN                            NaN   \n2                                  NaN                            NaN   \n3                                  NaN                            NaN   \n\n   DE_KN_residential6_freezer  DE_KN_residential6_grid_export  \\\n0                         NaN                             NaN   \n1                         NaN                             NaN   \n2                         NaN                             NaN   \n3                         NaN                             NaN   \n\n   DE_KN_residential6_grid_import  DE_KN_residential6_pv  \\\n0                             NaN                    NaN   \n1                             NaN                    NaN   \n2                             NaN                    NaN   \n3                             NaN                    NaN   \n\n   DE_KN_residential6_washing_machine  interpolated  \n0                                 NaN           NaN  \n1                                 NaN           NaN  \n2                                 NaN           NaN  \n3                                 NaN           NaN  \n\n[4 rows x 41 columns]",
            "text/html": "\u003cdiv\u003e\n\u003cstyle scoped\u003e\n    .dataframe tbody tr th:only-of-type {\n        vertical-align: middle;\n    }\n\n    .dataframe tbody tr th {\n        vertical-align: top;\n    }\n\n    .dataframe thead th {\n        text-align: right;\n    }\n\u003c/style\u003e\n\u003ctable border\u003d\"1\" class\u003d\"dataframe\"\u003e\n  \u003cthead\u003e\n    \u003ctr style\u003d\"text-align: right;\"\u003e\n      \u003cth\u003e\u003c/th\u003e\n      \u003cth\u003ecet_cest_timestamp\u003c/th\u003e\n      \u003cth\u003eDE_KN_residential1_dishwasher\u003c/th\u003e\n      \u003cth\u003eDE_KN_residential1_freezer\u003c/th\u003e\n      \u003cth\u003eDE_KN_residential1_grid_import\u003c/th\u003e\n      \u003cth\u003eDE_KN_residential1_heat_pump\u003c/th\u003e\n      \u003cth\u003eDE_KN_residential1_pv\u003c/th\u003e\n      \u003cth\u003eDE_KN_residential1_washing_machine\u003c/th\u003e\n      \u003cth\u003eDE_KN_residential2_circulation_pump\u003c/th\u003e\n      \u003cth\u003eDE_KN_residential2_dishwasher\u003c/th\u003e\n      \u003cth\u003eDE_KN_residential2_freezer\u003c/th\u003e\n      \u003cth\u003e...\u003c/th\u003e\n      \u003cth\u003eDE_KN_residential5_refrigerator\u003c/th\u003e\n      \u003cth\u003eDE_KN_residential5_washing_machine\u003c/th\u003e\n      \u003cth\u003eDE_KN_residential6_circulation_pump\u003c/th\u003e\n      \u003cth\u003eDE_KN_residential6_dishwasher\u003c/th\u003e\n      \u003cth\u003eDE_KN_residential6_freezer\u003c/th\u003e\n      \u003cth\u003eDE_KN_residential6_grid_export\u003c/th\u003e\n      \u003cth\u003eDE_KN_residential6_grid_import\u003c/th\u003e\n      \u003cth\u003eDE_KN_residential6_pv\u003c/th\u003e\n      \u003cth\u003eDE_KN_residential6_washing_machine\u003c/th\u003e\n      \u003cth\u003einterpolated\u003c/th\u003e\n    \u003c/tr\u003e\n  \u003c/thead\u003e\n  \u003ctbody\u003e\n    \u003ctr\u003e\n      \u003cth\u003e0\u003c/th\u003e\n      \u003ctd\u003e2014-12-11T18:00:00+0100\u003c/td\u003e\n      \u003ctd\u003eNaN\u003c/td\u003e\n      \u003ctd\u003eNaN\u003c/td\u003e\n      \u003ctd\u003eNaN\u003c/td\u003e\n      \u003ctd\u003eNaN\u003c/td\u003e\n      \u003ctd\u003eNaN\u003c/td\u003e\n      \u003ctd\u003eNaN\u003c/td\u003e\n      \u003ctd\u003eNaN\u003c/td\u003e\n      \u003ctd\u003eNaN\u003c/td\u003e\n      \u003ctd\u003eNaN\u003c/td\u003e\n      \u003ctd\u003e...\u003c/td\u003e\n      \u003ctd\u003eNaN\u003c/td\u003e\n      \u003ctd\u003eNaN\u003c/td\u003e\n      \u003ctd\u003eNaN\u003c/td\u003e\n      \u003ctd\u003eNaN\u003c/td\u003e\n      \u003ctd\u003eNaN\u003c/td\u003e\n      \u003ctd\u003eNaN\u003c/td\u003e\n      \u003ctd\u003eNaN\u003c/td\u003e\n      \u003ctd\u003eNaN\u003c/td\u003e\n      \u003ctd\u003eNaN\u003c/td\u003e\n      \u003ctd\u003eNaN\u003c/td\u003e\n    \u003c/tr\u003e\n    \u003ctr\u003e\n      \u003cth\u003e1\u003c/th\u003e\n      \u003ctd\u003e2014-12-11T19:00:00+0100\u003c/td\u003e\n      \u003ctd\u003eNaN\u003c/td\u003e\n      \u003ctd\u003eNaN\u003c/td\u003e\n      \u003ctd\u003eNaN\u003c/td\u003e\n      \u003ctd\u003eNaN\u003c/td\u003e\n      \u003ctd\u003eNaN\u003c/td\u003e\n      \u003ctd\u003eNaN\u003c/td\u003e\n      \u003ctd\u003eNaN\u003c/td\u003e\n      \u003ctd\u003eNaN\u003c/td\u003e\n      \u003ctd\u003eNaN\u003c/td\u003e\n      \u003ctd\u003e...\u003c/td\u003e\n      \u003ctd\u003eNaN\u003c/td\u003e\n      \u003ctd\u003eNaN\u003c/td\u003e\n      \u003ctd\u003eNaN\u003c/td\u003e\n      \u003ctd\u003eNaN\u003c/td\u003e\n      \u003ctd\u003eNaN\u003c/td\u003e\n      \u003ctd\u003eNaN\u003c/td\u003e\n      \u003ctd\u003eNaN\u003c/td\u003e\n      \u003ctd\u003eNaN\u003c/td\u003e\n      \u003ctd\u003eNaN\u003c/td\u003e\n      \u003ctd\u003eNaN\u003c/td\u003e\n    \u003c/tr\u003e\n    \u003ctr\u003e\n      \u003cth\u003e2\u003c/th\u003e\n      \u003ctd\u003e2014-12-11T20:00:00+0100\u003c/td\u003e\n      \u003ctd\u003eNaN\u003c/td\u003e\n      \u003ctd\u003eNaN\u003c/td\u003e\n      \u003ctd\u003eNaN\u003c/td\u003e\n      \u003ctd\u003eNaN\u003c/td\u003e\n      \u003ctd\u003eNaN\u003c/td\u003e\n      \u003ctd\u003eNaN\u003c/td\u003e\n      \u003ctd\u003eNaN\u003c/td\u003e\n      \u003ctd\u003eNaN\u003c/td\u003e\n      \u003ctd\u003eNaN\u003c/td\u003e\n      \u003ctd\u003e...\u003c/td\u003e\n      \u003ctd\u003eNaN\u003c/td\u003e\n      \u003ctd\u003eNaN\u003c/td\u003e\n      \u003ctd\u003eNaN\u003c/td\u003e\n      \u003ctd\u003eNaN\u003c/td\u003e\n      \u003ctd\u003eNaN\u003c/td\u003e\n      \u003ctd\u003eNaN\u003c/td\u003e\n      \u003ctd\u003eNaN\u003c/td\u003e\n      \u003ctd\u003eNaN\u003c/td\u003e\n      \u003ctd\u003eNaN\u003c/td\u003e\n      \u003ctd\u003eNaN\u003c/td\u003e\n    \u003c/tr\u003e\n    \u003ctr\u003e\n      \u003cth\u003e3\u003c/th\u003e\n      \u003ctd\u003e2014-12-11T21:00:00+0100\u003c/td\u003e\n      \u003ctd\u003eNaN\u003c/td\u003e\n      \u003ctd\u003eNaN\u003c/td\u003e\n      \u003ctd\u003eNaN\u003c/td\u003e\n      \u003ctd\u003eNaN\u003c/td\u003e\n      \u003ctd\u003eNaN\u003c/td\u003e\n      \u003ctd\u003eNaN\u003c/td\u003e\n      \u003ctd\u003eNaN\u003c/td\u003e\n      \u003ctd\u003eNaN\u003c/td\u003e\n      \u003ctd\u003eNaN\u003c/td\u003e\n      \u003ctd\u003e...\u003c/td\u003e\n      \u003ctd\u003eNaN\u003c/td\u003e\n      \u003ctd\u003eNaN\u003c/td\u003e\n      \u003ctd\u003eNaN\u003c/td\u003e\n      \u003ctd\u003eNaN\u003c/td\u003e\n      \u003ctd\u003eNaN\u003c/td\u003e\n      \u003ctd\u003eNaN\u003c/td\u003e\n      \u003ctd\u003eNaN\u003c/td\u003e\n      \u003ctd\u003eNaN\u003c/td\u003e\n      \u003ctd\u003eNaN\u003c/td\u003e\n      \u003ctd\u003eNaN\u003c/td\u003e\n    \u003c/tr\u003e\n  \u003c/tbody\u003e\n\u003c/table\u003e\n\u003cp\u003e4 rows × 41 columns\u003c/p\u003e\n\u003c/div\u003e"
          },
          "metadata": {},
          "output_type": "execute_result",
          "execution_count": 6
        }
      ],
      "source": "data_residential \u003d data[[\u0027cet_cest_timestamp\u0027,\u0027DE_KN_residential1_dishwasher\u0027,\n       \u0027DE_KN_residential1_freezer\u0027, \u0027DE_KN_residential1_grid_import\u0027,\n       \u0027DE_KN_residential1_heat_pump\u0027, \u0027DE_KN_residential1_pv\u0027,\n       \u0027DE_KN_residential1_washing_machine\u0027,\n       \u0027DE_KN_residential2_circulation_pump\u0027, \u0027DE_KN_residential2_dishwasher\u0027,\n       \u0027DE_KN_residential2_freezer\u0027, \u0027DE_KN_residential2_grid_import\u0027,\n       \u0027DE_KN_residential2_washing_machine\u0027,\n       \u0027DE_KN_residential3_circulation_pump\u0027, \u0027DE_KN_residential3_dishwasher\u0027,\n       \u0027DE_KN_residential3_freezer\u0027, \u0027DE_KN_residential3_grid_export\u0027,\n       \u0027DE_KN_residential3_grid_import\u0027, \u0027DE_KN_residential3_pv\u0027,\n       \u0027DE_KN_residential3_refrigerator\u0027, \u0027DE_KN_residential3_washing_machine\u0027,\n       \u0027DE_KN_residential4_dishwasher\u0027, \u0027DE_KN_residential4_ev\u0027,\n       \u0027DE_KN_residential4_freezer\u0027, \u0027DE_KN_residential4_grid_export\u0027,\n       \u0027DE_KN_residential4_grid_import\u0027, \u0027DE_KN_residential4_heat_pump\u0027,\n       \u0027DE_KN_residential4_pv\u0027, \u0027DE_KN_residential4_refrigerator\u0027,\n       \u0027DE_KN_residential4_washing_machine\u0027, \u0027DE_KN_residential5_dishwasher\u0027,\n       \u0027DE_KN_residential5_grid_import\u0027, \u0027DE_KN_residential5_refrigerator\u0027,\n       \u0027DE_KN_residential5_washing_machine\u0027,\n       \u0027DE_KN_residential6_circulation_pump\u0027, \u0027DE_KN_residential6_dishwasher\u0027,\n       \u0027DE_KN_residential6_freezer\u0027, \u0027DE_KN_residential6_grid_export\u0027,\n       \u0027DE_KN_residential6_grid_import\u0027, \u0027DE_KN_residential6_pv\u0027,\n       \u0027DE_KN_residential6_washing_machine\u0027, \u0027interpolated\u0027]]\n\ndata_residential.head(4)",
      "metadata": {
        "pycharm": {
          "metadata": false,
          "name": "#%%\n",
          "is_executing": false
        }
      }
    },
    {
      "cell_type": "markdown",
      "source": "On regarde les variables qui manque (NaN -\u003e machine ne fonctionne pas sur le timeslot ::\u003e mapping en binaire)",
      "metadata": {
        "pycharm": {
          "metadata": false
        }
      }
    },
    {
      "cell_type": "code",
      "execution_count": 28,
      "outputs": [
        {
          "name": "stdout",
          "text": [
            "Res 1\n::import::\n38454\n22581\nRes 2\n::import::\n38454\n22656\nRes 3\n::import::\n38454\n26550\n::export::\n38454\n15899\nRes 4\n::import::\n38454\n18094\n::export::\n38454\n18094\nRes 5\n::import::\n38454\n7650\nRes 6\n::import::\n38454\n16920\n::export::\n38454\n21764\n"
          ],
          "output_type": "stream"
        }
      ],
      "source": "print(\u0027Res 1\u0027)\nprint(\"::import::\")\nprint(len(data_residential[\u0027DE_KN_residential1_grid_import\u0027]))\nprint(data_residential[\u0027DE_KN_residential1_grid_import\u0027].isnull().sum())\n\n\nprint(\u0027Res 2\u0027)\nprint(\"::import::\")\nprint(len(data_residential[\u0027DE_KN_residential2_grid_import\u0027]))\nprint(data_residential[\u0027DE_KN_residential2_grid_import\u0027].isnull().sum())\n\nprint(\u0027Res 3\u0027)\nprint(\"::import::\")\nprint(len(data_residential[\u0027DE_KN_residential3_grid_import\u0027]))\nprint(data_residential[\u0027DE_KN_residential3_grid_import\u0027].isnull().sum())\nprint(\"::export::\")\nprint(len(data_residential[\u0027DE_KN_residential3_grid_export\u0027]))\nprint(data_residential[\u0027DE_KN_residential3_grid_export\u0027].isnull().sum())\nprint(\u0027Res 4\u0027)\nprint(\"::import::\")\nprint(len(data_residential[\u0027DE_KN_residential4_grid_import\u0027]))\nprint(data_residential[\u0027DE_KN_residential4_grid_import\u0027].isnull().sum())\nprint(\"::export::\")\nprint(len(data_residential[\u0027DE_KN_residential4_grid_export\u0027]))\nprint(data_residential[\u0027DE_KN_residential4_grid_export\u0027].isnull().sum())\nprint(\u0027Res 5\u0027)\nprint(\"::import::\")\nprint(len(data_residential[\u0027DE_KN_residential5_grid_import\u0027]))\nprint(data_residential[\u0027DE_KN_residential5_grid_import\u0027].isnull().sum())\nprint(\u0027Res 6\u0027)\nprint(\"::import::\")\nprint(len(data_residential[\u0027DE_KN_residential6_grid_import\u0027]))\nprint(data_residential[\u0027DE_KN_residential6_grid_import\u0027].isnull().sum())\nprint(\"::export::\")\nprint(len(data_residential[\u0027DE_KN_residential6_grid_export\u0027]))\nprint(data_residential[\u0027DE_KN_residential6_grid_export\u0027].isnull().sum())",
      "metadata": {
        "pycharm": {
          "metadata": false,
          "name": "#%%\n",
          "is_executing": false
        }
      }
    },
    {
      "cell_type": "markdown",
      "source": "On choisit les residences 3,4,5,6\n",
      "metadata": {
        "pycharm": {
          "metadata": false,
          "name": "#%% md\n"
        }
      }
    },
    {
      "cell_type": "code",
      "execution_count": 37,
      "outputs": [],
      "source": "#\ndata_residential_selected \u003d data_residential[[\u0027cet_cest_timestamp\u0027,\u0027DE_KN_residential3_circulation_pump\u0027, \u0027DE_KN_residential3_dishwasher\u0027,\n       \u0027DE_KN_residential3_freezer\u0027, \u0027DE_KN_residential3_grid_export\u0027,\n       \u0027DE_KN_residential3_grid_import\u0027, \u0027DE_KN_residential3_pv\u0027,\n       \u0027DE_KN_residential3_refrigerator\u0027, \u0027DE_KN_residential3_washing_machine\u0027,\n       \u0027DE_KN_residential4_dishwasher\u0027, \u0027DE_KN_residential4_ev\u0027,\n       \u0027DE_KN_residential4_freezer\u0027, \u0027DE_KN_residential4_grid_export\u0027,\n       \u0027DE_KN_residential4_grid_import\u0027, \u0027DE_KN_residential4_heat_pump\u0027,\n       \u0027DE_KN_residential4_pv\u0027, \u0027DE_KN_residential4_refrigerator\u0027,\n       \u0027DE_KN_residential4_washing_machine\u0027, \u0027DE_KN_residential5_dishwasher\u0027,\n       \u0027DE_KN_residential5_grid_import\u0027, \u0027DE_KN_residential5_refrigerator\u0027,\n       \u0027DE_KN_residential5_washing_machine\u0027,\n       \u0027DE_KN_residential6_circulation_pump\u0027, \u0027DE_KN_residential6_dishwasher\u0027,\n       \u0027DE_KN_residential6_freezer\u0027, \u0027DE_KN_residential6_grid_export\u0027,\n       \u0027DE_KN_residential6_grid_import\u0027, \u0027DE_KN_residential6_pv\u0027,\n       \u0027DE_KN_residential6_washing_machine\u0027]]\n\n#il nous faut choisir une période temporelle qui nous convient le mieux, c\u0027est à dire ou il a soit un import soit un export\n\ntest \u003d data_residential_selected[[\u0027cet_cest_timestamp\u0027,\u0027DE_KN_residential3_grid_import\u0027,\u0027DE_KN_residential3_grid_export\u0027,\u0027DE_KN_residential4_grid_import\u0027,\u0027DE_KN_residential4_grid_export\u0027,\u0027DE_KN_residential5_grid_import\u0027,\u0027DE_KN_residential6_grid_import\u0027,\u0027DE_KN_residential6_grid_export\u0027]]",
      "metadata": {
        "pycharm": {
          "metadata": false,
          "name": "#%%\n",
          "is_executing": false
        }
      }
    },
    {
      "cell_type": "code",
      "execution_count": 46,
      "outputs": [
        {
          "traceback": [
            "\u001b[1;31m---------------------------------------------------------------------------\u001b[0m",
            "\u001b[1;31mIndexError\u001b[0m                                Traceback (most recent call last)",
            "\u001b[1;32m~\\Anaconda3\\lib\\site-packages\\pandas\\core\\indexing.py\u001b[0m in \u001b[0;36m_get_list_axis\u001b[1;34m(self, key, axis)\u001b[0m\n\u001b[0;32m   2199\u001b[0m         \u001b[1;32mtry\u001b[0m\u001b[1;33m:\u001b[0m\u001b[1;33m\u001b[0m\u001b[1;33m\u001b[0m\u001b[0m\n\u001b[1;32m-\u003e 2200\u001b[1;33m             \u001b[1;32mreturn\u001b[0m \u001b[0mself\u001b[0m\u001b[1;33m.\u001b[0m\u001b[0mobj\u001b[0m\u001b[1;33m.\u001b[0m\u001b[0m_take\u001b[0m\u001b[1;33m(\u001b[0m\u001b[0mkey\u001b[0m\u001b[1;33m,\u001b[0m \u001b[0maxis\u001b[0m\u001b[1;33m\u003d\u001b[0m\u001b[0maxis\u001b[0m\u001b[1;33m)\u001b[0m\u001b[1;33m\u001b[0m\u001b[1;33m\u001b[0m\u001b[0m\n\u001b[0m\u001b[0;32m   2201\u001b[0m         \u001b[1;32mexcept\u001b[0m \u001b[0mIndexError\u001b[0m\u001b[1;33m:\u001b[0m\u001b[1;33m\u001b[0m\u001b[1;33m\u001b[0m\u001b[0m\n",
            "\u001b[1;32m~\\Anaconda3\\lib\\site-packages\\pandas\\core\\generic.py\u001b[0m in \u001b[0;36m_take\u001b[1;34m(self, indices, axis, is_copy)\u001b[0m\n\u001b[0;32m   3358\u001b[0m                                    \u001b[0maxis\u001b[0m\u001b[1;33m\u003d\u001b[0m\u001b[0mself\u001b[0m\u001b[1;33m.\u001b[0m\u001b[0m_get_block_manager_axis\u001b[0m\u001b[1;33m(\u001b[0m\u001b[0maxis\u001b[0m\u001b[1;33m)\u001b[0m\u001b[1;33m,\u001b[0m\u001b[1;33m\u001b[0m\u001b[1;33m\u001b[0m\u001b[0m\n\u001b[1;32m-\u003e 3359\u001b[1;33m                                    verify\u003dTrue)\n\u001b[0m\u001b[0;32m   3360\u001b[0m         \u001b[0mresult\u001b[0m \u001b[1;33m\u003d\u001b[0m \u001b[0mself\u001b[0m\u001b[1;33m.\u001b[0m\u001b[0m_constructor\u001b[0m\u001b[1;33m(\u001b[0m\u001b[0mnew_data\u001b[0m\u001b[1;33m)\u001b[0m\u001b[1;33m.\u001b[0m\u001b[0m__finalize__\u001b[0m\u001b[1;33m(\u001b[0m\u001b[0mself\u001b[0m\u001b[1;33m)\u001b[0m\u001b[1;33m\u001b[0m\u001b[1;33m\u001b[0m\u001b[0m\n",
            "\u001b[1;32m~\\Anaconda3\\lib\\site-packages\\pandas\\core\\internals\\managers.py\u001b[0m in \u001b[0;36mtake\u001b[1;34m(self, indexer, axis, verify, convert)\u001b[0m\n\u001b[0;32m   1340\u001b[0m         \u001b[1;32mif\u001b[0m \u001b[0mconvert\u001b[0m\u001b[1;33m:\u001b[0m\u001b[1;33m\u001b[0m\u001b[1;33m\u001b[0m\u001b[0m\n\u001b[1;32m-\u003e 1341\u001b[1;33m             \u001b[0mindexer\u001b[0m \u001b[1;33m\u003d\u001b[0m \u001b[0mmaybe_convert_indices\u001b[0m\u001b[1;33m(\u001b[0m\u001b[0mindexer\u001b[0m\u001b[1;33m,\u001b[0m \u001b[0mn\u001b[0m\u001b[1;33m)\u001b[0m\u001b[1;33m\u001b[0m\u001b[1;33m\u001b[0m\u001b[0m\n\u001b[0m\u001b[0;32m   1342\u001b[0m \u001b[1;33m\u001b[0m\u001b[0m\n",
            "\u001b[1;32m~\\Anaconda3\\lib\\site-packages\\pandas\\core\\indexing.py\u001b[0m in \u001b[0;36mmaybe_convert_indices\u001b[1;34m(indices, n)\u001b[0m\n\u001b[0;32m   2614\u001b[0m     \u001b[1;32mif\u001b[0m \u001b[0mmask\u001b[0m\u001b[1;33m.\u001b[0m\u001b[0many\u001b[0m\u001b[1;33m(\u001b[0m\u001b[1;33m)\u001b[0m\u001b[1;33m:\u001b[0m\u001b[1;33m\u001b[0m\u001b[1;33m\u001b[0m\u001b[0m\n\u001b[1;32m-\u003e 2615\u001b[1;33m         \u001b[1;32mraise\u001b[0m \u001b[0mIndexError\u001b[0m\u001b[1;33m(\u001b[0m\u001b[1;34m\"indices are out-of-bounds\"\u001b[0m\u001b[1;33m)\u001b[0m\u001b[1;33m\u001b[0m\u001b[1;33m\u001b[0m\u001b[0m\n\u001b[0m\u001b[0;32m   2616\u001b[0m     \u001b[1;32mreturn\u001b[0m \u001b[0mindices\u001b[0m\u001b[1;33m\u001b[0m\u001b[1;33m\u001b[0m\u001b[0m\n",
            "\u001b[1;31mIndexError\u001b[0m: indices are out-of-bounds",
            "\nDuring handling of the above exception, another exception occurred:\n",
            "\u001b[1;31mIndexError\u001b[0m                                Traceback (most recent call last)",
            "\u001b[1;32m\u003cipython-input-46-dceacb9e1c44\u003e\u001b[0m in \u001b[0;36m\u003cmodule\u003e\u001b[1;34m\u001b[0m\n\u001b[0;32m      2\u001b[0m \u001b[0msequence\u001b[0m \u001b[1;33m\u003d\u001b[0m \u001b[0mnp\u001b[0m\u001b[1;33m.\u001b[0m\u001b[0marray\u001b[0m\u001b[1;33m(\u001b[0m\u001b[0mtest\u001b[0m\u001b[1;33m.\u001b[0m\u001b[0mdropna\u001b[0m\u001b[1;33m(\u001b[0m\u001b[0mhow\u001b[0m\u001b[1;33m\u003d\u001b[0m\u001b[1;34m\u0027any\u0027\u001b[0m\u001b[1;33m)\u001b[0m\u001b[1;33m.\u001b[0m\u001b[0mindex\u001b[0m\u001b[1;33m)\u001b[0m\u001b[1;33m\u001b[0m\u001b[1;33m\u001b[0m\u001b[0m\n\u001b[0;32m      3\u001b[0m \u001b[0mlongest_seq\u001b[0m \u001b[1;33m\u003d\u001b[0m \u001b[0mmax\u001b[0m\u001b[1;33m(\u001b[0m\u001b[0mnp\u001b[0m\u001b[1;33m.\u001b[0m\u001b[0msplit\u001b[0m\u001b[1;33m(\u001b[0m\u001b[0msequence\u001b[0m\u001b[1;33m,\u001b[0m \u001b[0mnp\u001b[0m\u001b[1;33m.\u001b[0m\u001b[0mwhere\u001b[0m\u001b[1;33m(\u001b[0m\u001b[0mnp\u001b[0m\u001b[1;33m.\u001b[0m\u001b[0mdiff\u001b[0m\u001b[1;33m(\u001b[0m\u001b[0msequence\u001b[0m\u001b[1;33m)\u001b[0m \u001b[1;33m!\u003d\u001b[0m \u001b[1;36m1\u001b[0m\u001b[1;33m)\u001b[0m\u001b[1;33m[\u001b[0m\u001b[1;36m0\u001b[0m\u001b[1;33m]\u001b[0m\u001b[1;33m+\u001b[0m\u001b[1;36m1\u001b[0m\u001b[1;33m)\u001b[0m\u001b[1;33m,\u001b[0m \u001b[0mkey\u001b[0m\u001b[1;33m\u003d\u001b[0m\u001b[0mlen\u001b[0m\u001b[1;33m)\u001b[0m\u001b[1;33m\u001b[0m\u001b[1;33m\u001b[0m\u001b[0m\n\u001b[1;32m----\u003e 4\u001b[1;33m \u001b[0mdata_residential_selected\u001b[0m \u001b[1;33m\u003d\u001b[0m \u001b[0mdata_residential_selected\u001b[0m\u001b[1;33m.\u001b[0m\u001b[0miloc\u001b[0m\u001b[1;33m[\u001b[0m\u001b[0mlongest_seq\u001b[0m\u001b[1;33m]\u001b[0m\u001b[1;33m\u001b[0m\u001b[1;33m\u001b[0m\u001b[0m\n\u001b[0m\u001b[0;32m      5\u001b[0m house0 \u003d data_residential_selected[[\u0027cet_cest_timestamp\u0027,\u0027DE_KN_residential3_circulation_pump\u0027, \u0027DE_KN_residential3_dishwasher\u0027,\n\u001b[0;32m      6\u001b[0m        \u001b[1;34m\u0027DE_KN_residential3_freezer\u0027\u001b[0m\u001b[1;33m,\u001b[0m \u001b[1;34m\u0027DE_KN_residential3_grid_export\u0027\u001b[0m\u001b[1;33m,\u001b[0m\u001b[1;33m\u001b[0m\u001b[1;33m\u001b[0m\u001b[0m\n",
            "\u001b[1;32m~\\Anaconda3\\lib\\site-packages\\pandas\\core\\indexing.py\u001b[0m in \u001b[0;36m__getitem__\u001b[1;34m(self, key)\u001b[0m\n\u001b[0;32m   1498\u001b[0m \u001b[1;33m\u001b[0m\u001b[0m\n\u001b[0;32m   1499\u001b[0m             \u001b[0mmaybe_callable\u001b[0m \u001b[1;33m\u003d\u001b[0m \u001b[0mcom\u001b[0m\u001b[1;33m.\u001b[0m\u001b[0mapply_if_callable\u001b[0m\u001b[1;33m(\u001b[0m\u001b[0mkey\u001b[0m\u001b[1;33m,\u001b[0m \u001b[0mself\u001b[0m\u001b[1;33m.\u001b[0m\u001b[0mobj\u001b[0m\u001b[1;33m)\u001b[0m\u001b[1;33m\u001b[0m\u001b[1;33m\u001b[0m\u001b[0m\n\u001b[1;32m-\u003e 1500\u001b[1;33m             \u001b[1;32mreturn\u001b[0m \u001b[0mself\u001b[0m\u001b[1;33m.\u001b[0m\u001b[0m_getitem_axis\u001b[0m\u001b[1;33m(\u001b[0m\u001b[0mmaybe_callable\u001b[0m\u001b[1;33m,\u001b[0m \u001b[0maxis\u001b[0m\u001b[1;33m\u003d\u001b[0m\u001b[0maxis\u001b[0m\u001b[1;33m)\u001b[0m\u001b[1;33m\u001b[0m\u001b[1;33m\u001b[0m\u001b[0m\n\u001b[0m\u001b[0;32m   1501\u001b[0m \u001b[1;33m\u001b[0m\u001b[0m\n\u001b[0;32m   1502\u001b[0m     \u001b[1;32mdef\u001b[0m \u001b[0m_is_scalar_access\u001b[0m\u001b[1;33m(\u001b[0m\u001b[0mself\u001b[0m\u001b[1;33m,\u001b[0m \u001b[0mkey\u001b[0m\u001b[1;33m)\u001b[0m\u001b[1;33m:\u001b[0m\u001b[1;33m\u001b[0m\u001b[1;33m\u001b[0m\u001b[0m\n",
            "\u001b[1;32m~\\Anaconda3\\lib\\site-packages\\pandas\\core\\indexing.py\u001b[0m in \u001b[0;36m_getitem_axis\u001b[1;34m(self, key, axis)\u001b[0m\n\u001b[0;32m   2219\u001b[0m         \u001b[1;31m# a list of integers\u001b[0m\u001b[1;33m\u001b[0m\u001b[1;33m\u001b[0m\u001b[1;33m\u001b[0m\u001b[0m\n\u001b[0;32m   2220\u001b[0m         \u001b[1;32melif\u001b[0m \u001b[0mis_list_like_indexer\u001b[0m\u001b[1;33m(\u001b[0m\u001b[0mkey\u001b[0m\u001b[1;33m)\u001b[0m\u001b[1;33m:\u001b[0m\u001b[1;33m\u001b[0m\u001b[1;33m\u001b[0m\u001b[0m\n\u001b[1;32m-\u003e 2221\u001b[1;33m             \u001b[1;32mreturn\u001b[0m \u001b[0mself\u001b[0m\u001b[1;33m.\u001b[0m\u001b[0m_get_list_axis\u001b[0m\u001b[1;33m(\u001b[0m\u001b[0mkey\u001b[0m\u001b[1;33m,\u001b[0m \u001b[0maxis\u001b[0m\u001b[1;33m\u003d\u001b[0m\u001b[0maxis\u001b[0m\u001b[1;33m)\u001b[0m\u001b[1;33m\u001b[0m\u001b[1;33m\u001b[0m\u001b[0m\n\u001b[0m\u001b[0;32m   2222\u001b[0m \u001b[1;33m\u001b[0m\u001b[0m\n\u001b[0;32m   2223\u001b[0m         \u001b[1;31m# a single integer\u001b[0m\u001b[1;33m\u001b[0m\u001b[1;33m\u001b[0m\u001b[1;33m\u001b[0m\u001b[0m\n",
            "\u001b[1;32m~\\Anaconda3\\lib\\site-packages\\pandas\\core\\indexing.py\u001b[0m in \u001b[0;36m_get_list_axis\u001b[1;34m(self, key, axis)\u001b[0m\n\u001b[0;32m   2201\u001b[0m         \u001b[1;32mexcept\u001b[0m \u001b[0mIndexError\u001b[0m\u001b[1;33m:\u001b[0m\u001b[1;33m\u001b[0m\u001b[1;33m\u001b[0m\u001b[0m\n\u001b[0;32m   2202\u001b[0m             \u001b[1;31m# re-raise with different error message\u001b[0m\u001b[1;33m\u001b[0m\u001b[1;33m\u001b[0m\u001b[1;33m\u001b[0m\u001b[0m\n\u001b[1;32m-\u003e 2203\u001b[1;33m             \u001b[1;32mraise\u001b[0m \u001b[0mIndexError\u001b[0m\u001b[1;33m(\u001b[0m\u001b[1;34m\"positional indexers are out-of-bounds\"\u001b[0m\u001b[1;33m)\u001b[0m\u001b[1;33m\u001b[0m\u001b[1;33m\u001b[0m\u001b[0m\n\u001b[0m\u001b[0;32m   2204\u001b[0m \u001b[1;33m\u001b[0m\u001b[0m\n\u001b[0;32m   2205\u001b[0m     \u001b[1;32mdef\u001b[0m \u001b[0m_getitem_axis\u001b[0m\u001b[1;33m(\u001b[0m\u001b[0mself\u001b[0m\u001b[1;33m,\u001b[0m \u001b[0mkey\u001b[0m\u001b[1;33m,\u001b[0m \u001b[0maxis\u001b[0m\u001b[1;33m\u003d\u001b[0m\u001b[1;32mNone\u001b[0m\u001b[1;33m)\u001b[0m\u001b[1;33m:\u001b[0m\u001b[1;33m\u001b[0m\u001b[1;33m\u001b[0m\u001b[0m\n",
            "\u001b[1;31mIndexError\u001b[0m: positional indexers are out-of-bounds"
          ],
          "ename": "IndexError",
          "evalue": "positional indexers are out-of-bounds",
          "output_type": "error"
        }
      ],
      "source": "import numpy as np\nsequence \u003d np.array(test.dropna(how\u003d\u0027any\u0027).index)    \nlongest_seq \u003d max(np.split(sequence, np.where(np.diff(sequence) !\u003d 1)[0]+1), key\u003dlen)\ndata_residential_selected \u003d data_residential_selected.iloc[longest_seq]",
      "metadata": {
        "pycharm": {
          "metadata": false,
          "name": "#%%\n",
          "is_executing": false
        }
      }
    },
    {
      "cell_type": "code",
      "execution_count": 47,
      "outputs": [],
      "source": "house0 \u003d data_residential_selected[[\u0027cet_cest_timestamp\u0027,\u0027DE_KN_residential3_circulation_pump\u0027, \u0027DE_KN_residential3_dishwasher\u0027,\n       \u0027DE_KN_residential3_freezer\u0027, \u0027DE_KN_residential3_grid_export\u0027,\n       \u0027DE_KN_residential3_grid_import\u0027, \u0027DE_KN_residential3_pv\u0027,\n       \u0027DE_KN_residential3_refrigerator\u0027, \u0027DE_KN_residential3_washing_machine\u0027]]\nhouse1 \u003d data_residential_selected[[\u0027cet_cest_timestamp\u0027,\u0027DE_KN_residential4_dishwasher\u0027, \u0027DE_KN_residential4_ev\u0027,\n       \u0027DE_KN_residential4_freezer\u0027, \u0027DE_KN_residential4_grid_export\u0027,\n       \u0027DE_KN_residential4_grid_import\u0027, \u0027DE_KN_residential4_heat_pump\u0027,\n       \u0027DE_KN_residential4_pv\u0027, \u0027DE_KN_residential4_refrigerator\u0027,\n       \u0027DE_KN_residential4_washing_machine\u0027]]\nhouse2 \u003d data_residential_selected[[\u0027cet_cest_timestamp\u0027,\u0027DE_KN_residential5_dishwasher\u0027,\n       \u0027DE_KN_residential5_grid_import\u0027, \u0027DE_KN_residential5_refrigerator\u0027,\n       \u0027DE_KN_residential5_washing_machine\u0027,]]\nhouse3 \u003d data_residential_selected[[\u0027cet_cest_timestamp\u0027,\u0027DE_KN_residential6_circulation_pump\u0027, \u0027DE_KN_residential6_dishwasher\u0027,\n       \u0027DE_KN_residential6_freezer\u0027, \u0027DE_KN_residential6_grid_export\u0027,\n       \u0027DE_KN_residential6_grid_import\u0027, \u0027DE_KN_residential6_pv\u0027,\n       \u0027DE_KN_residential6_washing_machine\u0027]]\n",
      "metadata": {
        "pycharm": {
          "metadata": false,
          "name": "#%%\n",
          "is_executing": false
        }
      }
    },
    {
      "cell_type": "code",
      "execution_count": 49,
      "outputs": [],
      "source": "house0.to_csv(\u0027./Data/house0.csv\u0027)\nhouse1.to_csv(\u0027./Data/house1.csv\u0027)\nhouse2.to_csv(\u0027./Data/house2.csv\u0027)\nhouse3.to_csv(\u0027./Data/house3.csv\u0027)",
      "metadata": {
        "pycharm": {
          "metadata": false,
          "name": "#%%\n",
          "is_executing": false
        }
      }
    },
    {
      "cell_type": "markdown",
      "source": "Pour les batteries:\nFor all the batteries we consideredS OCmin\u003d0.2,S OCmax\u003d0.8, selfdischarge\u003d0, charginge f f iciency\u003d0.98 and discharginge f f iciency\u003d0.97",
      "metadata": {
        "pycharm": {
          "metadata": false
        }
      }
    },
    {
      "cell_type": "code",
      "execution_count": null,
      "outputs": [],
      "source": "\nimport pandas as pd\n\ndf1 \u003d pd.read_csv(\u0027Data/house0.csv\u0027)\n",
      "metadata": {
        "pycharm": {
          "metadata": false,
          "name": "#%%\n"
        }
      }
    },
    {
      "cell_type": "code",
      "execution_count": null,
      "outputs": [],
      "source": "df1.head()",
      "metadata": {
        "pycharm": {
          "metadata": false,
          "name": "#%%\n"
        }
      }
    },
    {
      "cell_type": "code",
      "execution_count": null,
      "outputs": [],
      "source": "df1 \u003d df1.drop(columns\u003d[\"Unnamed: 0\"])\ndf1.head(24)",
      "metadata": {
        "pycharm": {
          "metadata": false,
          "name": "#%%\n"
        }
      }
    },
    {
      "cell_type": "code",
      "execution_count": null,
      "outputs": [],
      "source": "t1 \u003d \u00272017-02-06T00:00:00+0100\u0027\nt2 \u003d \u00272017-02-07T00:00:00+0100\u0027",
      "metadata": {
        "pycharm": {
          "metadata": false,
          "name": "#%%\n"
        }
      }
    },
    {
      "cell_type": "code",
      "execution_count": null,
      "outputs": [],
      "source": "start \u003d df1.index[df1[\u0027cet_cest_timestamp\u0027] \u003d\u003d t1][0]\nstop  \u003d df1.index[df1[\u0027cet_cest_timestamp\u0027] \u003d\u003d t2][0]",
      "metadata": {
        "pycharm": {
          "metadata": false,
          "name": "#%%\n"
        }
      }
    },
    {
      "cell_type": "code",
      "execution_count": null,
      "outputs": [],
      "source": "day \u003d df1.iloc[[i for i in range(start+1,stop+1)]]\nday.head(24)",
      "metadata": {
        "pycharm": {
          "metadata": false,
          "name": "#%%\n"
        }
      }
    },
    {
      "cell_type": "code",
      "execution_count": null,
      "outputs": [],
      "source": "appliance_consom_df \u003d  day[\u0027DE_KN_residential3_dishwasher\u0027]\nappliance_consom \u003dappliance_consom_df.to_numpy()\npv_df \u003d day[\u0027DE_KN_residential3_pv\u0027]\npv \u003d pv_df.to_numpy()",
      "metadata": {
        "pycharm": {
          "metadata": false,
          "name": "#%%\n"
        }
      }
    },
    {
      "cell_type": "code",
      "execution_count": null,
      "outputs": [],
      "source": "\"\"\"\nHOME:\nself.id \u003d id\n        self.C \u003d C\n        self.C_NT \u003d C_NT\n        self.L_max \u003d L_max\n        self.list_DS \u003d list_DS\n        self.list_GE \u003d list_GE\n        self.list_MQ \u003d list_MQ\n        self.list_RE \u003d list_RE\n        self.list_ME \u003d list_ME\n        self.list_appliance \u003d list_appliance\n        self.list_storage \u003d list_storage\n        self.list_renewable \u003d list_renewable\nAPPLIANCE:\n        self.disutility \u003d 0.1   # Prefered Delay\n        self.p \u003d 0.0    # Power consumption\n        self.list_r \u003d []     # Reservation time\n        self.t \u003d 0   # Duration time of an appliance\n        self.list_US \u003d []  # Start time of uinterruptible appliance (Not use)\n        self.list_S \u003d []  # Operation Time\n        self.tau \u003d 0  # end time of appliance\nSTORAGE: \nself.E \u003d E\n        self.IE \u003d IE\n        self.max_ck \u003d max_ck\n        self.min_ck \u003d min_ck\n        self.SD \u003d SD\n        self.SP \u003d SP\n        self.list_BE \u003d list_BE\n        self.list_IC \u003d list_IC\n        self.list_SE \u003d list_SE\nRENEWABLE\nclass Renewable:\n    def __init__(self,list_RQ):\n        self.list_RQ \u003d list_RQ\n        pass\n\"\"\"\n\n\n",
      "metadata": {
        "pycharm": {
          "metadata": false,
          "name": "#%%\n"
        }
      }
    },
    {
      "cell_type": "code",
      "execution_count": null,
      "outputs": [],
      "source": "from scipy.optimize import linprog\nimport numpy as np\n\nctot \u003d 1\n\nGPh \u003d 0.18\ndisutility \u003d 0.1\nt \u003d 3  # appliance.t\nE \u003d 0.8  # storage.E\nIE \u003d 3 # storage.IE\nSD \u003d 0.01 # storage.sd\nP1 \u003d 1.800  # household.p\nMinC \u003d 2.56 # min storage\nMaxC \u003d 6.4 # max storage\nSP \u003d 1\nRQ \u003d [0.1 for _ in range(24)]  # stockage.RQ\nbeta \u003d 17 # appliance.beta\nLmax \u003d 6000\n\n\nc \u003d np.zeros(145)\n# x \u003d [GE1 .. GE24, S1 .. S24, IC1 .. IC24, BE1 .. BE24, RE1 .. RE24, SE1 .. SE24, Tau]\nx_index \u003d {\"GE\": 0, \"S\": 24, \"IC\": 48, \"BE\": 72, \"RE\": 96, \"SE\": 120}\n# Fonction de cout\nc[:25] \u003d GPh\nc[-1] \u003d disutility\n# Matrice de contraintes\nb \u003d np.zeros(50)\n# Contrainte 3 : h [1,24] Lh \u003d -\u003e -1 GEh + P1*Sh + SP * ICh - BEh - REh \u003d (0)\nl \u003d np.zeros((50, 145))\nfor offset in range(24):\n    l[offset, offset + x_index[\"GE\"]] \u003d -1  # -GEh\n    l[offset, offset + x_index[\"S\"]] \u003d P1  # P1 * Sh\n    l[offset, offset + x_index[\"IC\"]] \u003d SP  # SP * ICh\n    l[offset, offset + x_index[\"BE\"]] \u003d -1  # -BEh\n    l[offset, offset + x_index[\"RE\"]] \u003d -1  # -REh\n    b[offset] \u003d 0\n\n# Contrainte 8 : h [1, 24] -\u003e S1 + .. + S24 \u003d t\nl[24, x_index[\"S\"]:x_index[\"IC\"]] \u003d 1\nb[24] \u003d t\n\n# Contrainte 4 :\nl[25, x_index[\"SE\"]] \u003d 1\nl[25, x_index[\"IC\"]] \u003d - E * SP\nl[25, x_index[\"BE\"]] \u003d 1\nb[25] \u003d IE * SD\nfor offset in range(1, 24):\n    l[25 + offset, x_index[\"SE\"] + offset] \u003d 1\n    l[25 + offset, x_index[\"SE\"] + offset - 1] \u003d -SD\n    l[25 + offset, x_index[\"IC\"] + offset] \u003d - E * SP\n    l[25  +offset, x_index[\"BE\"] + offset] \u003d 1\n    b[25 + offset] \u003d IE * SD\n\nlin \u003d np.zeros((48, 145))\nbin \u003d np.zeros(48)\n#TODO Refaire la contrainte 11 \u0026 15\n\n# Contrainte 11\nfor offset in range(24):\n    lin[offset, offset + x_index[\u0027S\u0027]] \u003d offset + 1\n    lin[offset, -1] \u003d -1\n    bin[offset] \u003d 0\n\n#Contstrain 15\nfor offset in range(24):\n    lin[24 + offset,offset] \u003d 1\n    bin[24 + offset] \u003d Lmax\n\n\n\n # \"bounds\"\nbounds \u003d [(0, None) for _ in range(145)]\n# bounds \u003d np.array(bounds)\n# Bounds SE:\n\nfor offset in range(24):\n    bounds[offset + x_index[\"SE\"]] \u003d (MinC, MaxC)\n\n# Bound RE\nfor offset in range(24):\n    bounds[offset + x_index[\"RE\"]] \u003d (None, RQ[offset])\nfor offset in range(24):\n    bounds[offset + x_index[\"S\"]] \u003d (0,1)\n#TO DO: bound arrays for S € [0,1] \n# Bound Tau\nbounds[-1] \u003d (None, beta)\n\n# linprog\nres \u003d linprog(c, A_eq\u003dl, b_eq\u003db, A_ub\u003dlin, b_ub\u003dbin, bounds\u003dbounds,method\u003d\u0027revised simplex\u0027, options\u003d{\"disp\": True})\nprint(res)\n\n",
      "metadata": {
        "pycharm": {
          "metadata": false,
          "name": "#%%\n"
        }
      }
    },
    {
      "cell_type": "code",
      "execution_count": null,
      "outputs": [],
      "source": "\ncolumns \u003d []\nfor i in range(24):\n    columns.append(\"GE\"+str(i+1))\nfor i in range(24,48):\n    columns.append(\"S\"+str(i-23))\nfor i in range(48,72):\n    columns.append(\"IC\"+str(i-47))\nfor i in range(72,96):\n    columns.append(\"BE\"+str(i-71))\nfor i in range(96,120):\n    columns.append(\"RE\"+str(i-95))\nfor i in range(120,144):\n    columns.append(\"SE\"+str(i-119))\n\ncolumns.append(\"tau\")\ndf \u003d pd.DataFrame(l,columns\u003dcolumns)",
      "metadata": {
        "pycharm": {
          "metadata": false,
          "name": "#%%\n"
        }
      }
    },
    {
      "cell_type": "code",
      "execution_count": null,
      "outputs": [],
      "source": "df_contreinte \u003d pd.DataFrame(lin,columns\u003dcolumns)",
      "metadata": {
        "pycharm": {
          "metadata": false,
          "name": "#%%\n"
        }
      }
    },
    {
      "cell_type": "code",
      "execution_count": null,
      "outputs": [],
      "source": "ddd \u003d pd.DataFrame(data \u003d np.array(res.x),columns\u003dcolumns)",
      "metadata": {
        "pycharm": {
          "metadata": false,
          "name": "#%%\n"
        }
      }
    },
    {
      "cell_type": "code",
      "execution_count": null,
      "outputs": [],
      "source": "s \u003d res.x",
      "metadata": {
        "pycharm": {
          "metadata": false,
          "name": "#%%\n"
        }
      }
    },
    {
      "cell_type": "code",
      "execution_count": null,
      "outputs": [],
      "source": "",
      "metadata": {
        "pycharm": {
          "metadata": false,
          "name": "#%%"
        }
      }
    }
  ],
  "metadata": {
    "language_info": {
      "codemirror_mode": {
        "name": "ipython",
        "version": 2
      },
      "file_extension": ".py",
      "mimetype": "text/x-python",
      "name": "python",
      "nbconvert_exporter": "python",
      "pygments_lexer": "ipython2",
      "version": "2.7.6"
    },
    "kernelspec": {
      "name": "python3",
      "language": "python",
      "display_name": "Python 3"
    }
  },
  "nbformat": 4,
  "nbformat_minor": 0
}