{
  "cells": [
    {
      "cell_type": "code",
      "execution_count": 1,
      "metadata": {
        "collapsed": true,
        "pycharm": {
          "is_executing": false
        }
      },
      "outputs": [
        {
          "name": "stdout",
          "text": [
            "hello\n"
          ],
          "output_type": "stream"
        }
      ],
      "source": "print(\"hello\")"
    },
    {
      "cell_type": "code",
      "execution_count": 2,
      "outputs": [],
      "source": "from mip import *",
      "metadata": {
        "pycharm": {
          "metadata": false,
          "name": "#%%\n",
          "is_executing": false
        }
      }
    },
    {
      "cell_type": "markdown",
      "source": "MODULE 1",
      "metadata": {
        "pycharm": {
          "metadata": false,
          "name": "#%% md\n"
        }
      }
    },
    {
      "cell_type": "code",
      "execution_count": null,
      "outputs": [],
      "source": "def module1(GPh,disutility,t,E,SD,IE,P1,MinC,MaxC,SP,RQ,beta,Lmax):\n    \"\"\"\n    GPh \u003d [0.18 for _ in range(24)]\n    GPh[10] \u003d 0\n    disutility \u003d 0.1\n    t \u003d 3  # appliance.t\n    E \u003d 0.8  # storage.E\n    IE \u003d 2.6 # storage.IE\n    SD \u003d 1 # storage.sd\n    P1 \u003d 1800  # household.p\n    MinC \u003d 2.6 # min storage\n    MaxC \u003d 6.4 # max storage\n    SP \u003d 1\n    RQ \u003d [1.3 for _ in range(24)]  # stockage.RQ\n    beta \u003d 12 # appliance.beta\n    Lmax \u003d 6000\n    \"\"\"\n    m \u003d Model(sense\u003dMINIMIZE,solver_name\u003dCBC)\n    \n    GE \u003d [ m.add_var(name\u003d\u0027GE\u0027+str(i),ub\u003dLmax,lb\u003d0) for i in range(1,25)]\n    S \u003d [ m.add_var(name\u003d\u0027S\u0027+str(i),var_type\u003dBINARY) for i in range(1,25)]\n    IC \u003d [ m.add_var(name\u003d\u0027IC\u0027+str(i),var_type\u003dBINARY) for i in range(1,25)]\n    BE \u003d [ m.add_var(name\u003d\u0027BE\u0027+str(i)) for i in range(1,25)]\n    RE \u003d [ m.add_var(name\u003d\u0027RE\u0027+str(i),ub\u003dRQ[i-1]) for i in range(1,25) ]\n    SE \u003d [ m.add_var(name\u003d\u0027SE\u0027+str(i),ub\u003dMaxC,lb\u003dMinC) for i in range(1,25)]\n    tau \u003d m.add_var(name\u003d\u0027Tau\u0027,ub\u003dbeta)\n    for h in range(0,24):\n        m+\u003d (S[h]*P1 + IC[h]*SP \u003d\u003d GE[h] + BE[h] + RE[h]) \n    \n    #Contrainte 4\n    m+\u003d SE[0] \u003d\u003d IE*SD + IC[0]*SP*E-BE[0]\n    \n    for h in range(1,24):\n        m+\u003d SE[h] \u003d\u003d SE[h-1]*SD  + IC[h]*SP*E-BE[h]\n    \n    #Contrainte 8\n    m+\u003d xsum(S[h] for h in range(24)) \u003d\u003d t\n    #Contrainte 11\n    for h in range(24):\n        m+\u003d (h+1)*S[h] \u003c\u003d tau\n    print(\"End constraint\")\n    \n    m.objective \u003d xsum(GPh[h] * GE[h] for h in range(24)) + disutility*tau\n\n    m.max_gap \u003d 0.01\n    status \u003d m.optimize(max_seconds\u003d30)\n    if status \u003d\u003d OptimizationStatus.OPTIMAL:\n        print(\u0027optimal solution cost {} found\u0027.format(m.objective_value))\n    elif status \u003d\u003d OptimizationStatus.FEASIBLE:\n        print(\u0027sol.cost {} found, best possible: {}\u0027.format(m.objective_value, m.objective_bound))\n    elif status \u003d\u003d OptimizationStatus.NO_SOLUTION_FOUND:\n        print(\u0027no feasible solution found, lower bound is: {}\u0027.format(m.objective_bound))\n    if status \u003d\u003d OptimizationStatus.OPTIMAL or status \u003d\u003d OptimizationStatus.FEASIBLE:\n        print(\u0027solution:\u0027)\n    if status \u003d\u003d OptimizationStatus.INFEASIBLE:\n        print(\"Infeasible\")\n    dsk \u003d []\n    \n    for i in range(24):\n        dsk.append(m.vars[\u0027S\u0027+str(i+1)].x*P1 + m.vars[\u0027IC\u0027+str(i+1)].x*SP - RQ[i]-\n                   m.vars[\u0027SE\u0027+str(i+1)].x-m.vars[\u0027BE\u0027+str(i+1)].x+MinC)\n    return m.objective_bound,dsk\n",
      "metadata": {
        "pycharm": {
          "metadata": false,
          "name": "#%%\n"
        }
      }
    },
    {
      "cell_type": "markdown",
      "source": "MODULE 2",
      "metadata": {
        "pycharm": {
          "metadata": false
        }
      }
    },
    {
      "cell_type": "code",
      "execution_count": 39,
      "outputs": [],
      "source": "\ndef module2(GPh,disutility,t,E,SD,IE,P1,MinC,MaxC,SP,RQ,beta,Lmax,CK_noTrade_1,ME_1\n            ,disutility2,t2,E2,SD2,IE2,P2,MinC2,MaxC2,SP2,RQ2,beta2,CK_noTrade_2,ME_2):\n    \"\"\"\n    GPh \u003d [0.18 for _ in range(24)]\n    GPh[10] \u003d 0\n    disutility \u003d 0.1\n    t \u003d 3  # appliance.t\n    E \u003d 0.8  # storage.E\n    IE \u003d 2.6 # storage.IE\n    SD \u003d 1 # storage.sd\n    P1 \u003d 1800  # household.p\n    P2 \u003d 1800\n    MinC \u003d 2.6 # min storage\n    MaxC \u003d 6.4 # max storage\n    SP \u003d 1\n    RQ \u003d [1.3 for _ in range(24)]  # stockage.RQ\n    beta \u003d 12 # appliance.beta\n    Lmax \u003d 6000\n    CK_noTrade_1 \u003d 900\n    CK_noTrade_2 \u003d 900\n    ME_1 \u003d [w for w in range(24)]#DSK_1\n    ME_2 \u003d [w for w in range(24)]#DSK_2\n    \"\"\"\n    \n    m \u003d Model(sense\u003dMINIMIZE,solver_name\u003dCBC)\n    \n    MP \u003d [ m.add_var(name\u003d\u0027MP\u0027+str(i),ub\u003dGPh[i-1],lb\u003d0) for i in range(1,25)]\n    \n    GE_1 \u003d [ m.add_var(name\u003d\u0027GE_1\u0027+str(i),ub\u003dLmax,lb\u003d0) for i in range(1,25)]\n    S_1 \u003d [ m.add_var(name\u003d\u0027S_1\u0027+str(i),var_type\u003dBINARY) for i in range(1,25)]\n    IC_1 \u003d [ m.add_var(name\u003d\u0027IC_1\u0027+str(i),var_type\u003dBINARY) for i in range(1,25)]\n    BE_1 \u003d [ m.add_var(name\u003d\u0027BE_1\u0027+str(i)) for i in range(1,25)]\n    RE_1 \u003d [ m.add_var(name\u003d\u0027RE_1\u0027+str(i),ub\u003dRQ[i-1]) for i in range(1,25) ]\n    SE_1 \u003d [ m.add_var(name\u003d\u0027SE_1\u0027+str(i),ub\u003dMaxC,lb\u003dMinC) for i in range(1,25)]\n    \n    tau_1 \u003d m.add_var(name\u003d\u0027Tau_1\u0027,ub\u003dbeta)\n    \n    GE_2 \u003d [ m.add_var(name\u003d\u0027GE_2\u0027+str(i),ub\u003dLmax,lb\u003d0) for i in range(1,25)]\n    S_2 \u003d [ m.add_var(name\u003d\u0027S_2\u0027+str(i),var_type\u003dBINARY) for i in range(1,25)]\n    IC_2 \u003d [ m.add_var(name\u003d\u0027IC_2\u0027+str(i),var_type\u003dBINARY) for i in range(1,25)]\n    BE_2 \u003d [ m.add_var(name\u003d\u0027BE_2\u0027+str(i)) for i in range(1,25)]\n    RE_2 \u003d [ m.add_var(name\u003d\u0027RE_2\u0027+str(i),ub\u003dRQ2[i-1]) for i in range(1,25) ]\n    SE_2 \u003d [ m.add_var(name\u003d\u0027SE_2\u0027+str(i),ub\u003dMaxC2,lb\u003dMinC2) for i in range(1,25)]\n    \n    tau_2 \u003d m.add_var(name\u003d\u0027Tau_2\u0027,ub\u003dbeta2)\n\n    print(\u0027end\u0027)\n    #%%\n    #Contrainte 4\u00265\n    m+\u003d SE_1[0] \u003d\u003d IE*SD + IC_1[0]*SP*E-BE_1[0]\n    m+\u003d SE_2[0] \u003d\u003d IE2*SD2 + IC_2[0]*SP2*E2-BE_1[0]\n    \n    for h in range(1,24):\n        m+\u003d SE_1[h] \u003d\u003d SE_1[h-1]*SD  + IC_1[h]*SP*E-BE_1[h]\n        m+\u003d SE_2[h] \u003d\u003d SE_2[h-1]*SD2  + IC_2[h]*SP2*E2-BE_2[h]\n    #Contrainte 8\n    m+\u003d xsum(S_1[h] for h in range(24)) \u003d\u003d t\n    m+\u003d xsum(S_2[h] for h in range(24)) \u003d\u003d t2\n    #Contrainte 11\n    for h in range(24):\n        m+\u003d (h+1)*S_1[h] \u003c\u003d tau_1\n        m+\u003d (h+1)*S_2[h] \u003c\u003d tau_2\n        \n    #Constrain 21\n    for h in range(0,24):\n            m+\u003d (S_1[h]*P1 + IC_1[h]*SP \u003c\u003d GE_1[h] + BE_1[h] + RE_1[h] + ME_1[h]) \n            m+\u003d (S_2[h]*P2 + IC_2[h]*SP2 \u003c\u003d GE_2[h] + BE_2[h] + RE_2[h] + ME_2[h]) \n    #Constrain 24\n    m+\u003d xsum( GPh[h] * GE_1[h] + MP[h] * ME_1[h]  for h in range(24)) + disutility*tau_1 \u003c\u003d CK_noTrade_1\n    m+\u003d xsum(GPh[h] * GE_2[h]+ MP[h]*ME_2[h] for h in range(24)) + disutility2*tau_2 \u003c\u003d CK_noTrade_2\n    \n    \n    print(\"End constraint\")\n    #%%\n    m.objective \u003d xsum(GPh[h] * GE_1[h] + GPh[h] * GE_2[h] for h in range(24)) + disutility*tau_1 + disutility*tau_2\n    m.max_gap \u003d 0.01\n    status \u003d m.optimize(max_seconds\u003d30)\n    if status \u003d\u003d OptimizationStatus.OPTIMAL:\n        print(\u0027optimal solution cost {} found\u0027.format(m.objective_value))\n    elif status \u003d\u003d OptimizationStatus.FEASIBLE:\n        print(\u0027sol.cost {} found, best possible: {}\u0027.format(m.objective_value, m.objective_bound))\n    elif status \u003d\u003d OptimizationStatus.NO_SOLUTION_FOUND:\n        print(\u0027no feasible solution found, lower bound is: {}\u0027.format(m.objective_bound))\n    if status \u003d\u003d OptimizationStatus.OPTIMAL or status \u003d\u003d OptimizationStatus.FEASIBLE:\n        print(\u0027solution:\u0027)\n    if status \u003d\u003d OptimizationStatus.INFEASIBLE:\n                   print(\"Infeasible\")\n    MP_out \u003d []\n    for i in range(24):\n        MP_out.append(m.vars[\u0027MP\u0027+str(i+1)].x)\n    return MP_out",
      "metadata": {
        "pycharm": {
          "metadata": false,
          "name": "#%%\n",
          "is_executing": false
        }
      }
    },
    {
      "cell_type": "markdown",
      "source": "MODULE 3",
      "metadata": {
        "pycharm": {
          "metadata": false
        }
      }
    },
    {
      "cell_type": "code",
      "execution_count": 67,
      "outputs": [],
      "source": "def module3(GPh,disutility1,t1,E1,SD1,IE1,P1,MinC1,MaxC1,SP1,RQ1,beta1,Lmax,CK_noTrade_1,MP\n            ,disutility2,t2,E2,SD2,IE2,P2,MinC2,MaxC2,SP2,RQ2,beta2,CK_noTrade_2):\n    m \u003d Model(sense\u003dMINIMIZE,solver_name\u003dCBC)\n    \n    \n    \n    GE_1 \u003d [ m.add_var(name\u003d\u0027GE_1\u0027+str(i),ub\u003dLmax,lb\u003d0) for i in range(1,25)]\n    S_1 \u003d [ m.add_var(name\u003d\u0027S_1\u0027+str(i),var_type\u003dBINARY) for i in range(1,25)]\n    IC_1 \u003d [ m.add_var(name\u003d\u0027IC_1\u0027+str(i),var_type\u003dBINARY) for i in range(1,25)]\n    BE_1 \u003d [ m.add_var(name\u003d\u0027BE_1\u0027+str(i)) for i in range(1,25)]\n    RE_1 \u003d [ m.add_var(name\u003d\u0027RE_1\u0027+str(i),ub\u003dRQ1[i-1]) for i in range(1,25) ]\n    SE_1 \u003d [ m.add_var(name\u003d\u0027SE_1\u0027+str(i),ub\u003dMaxC1,lb\u003dMinC1) for i in range(1,25)]\n    ME_1 \u003d [ m.add_var(name\u003d\u0027ME1\u0027+str(i)) for i in range(1,25)]\n    tau_1 \u003d m.add_var(name\u003d\u0027Tau_1\u0027,ub\u003dbeta1)\n    MQ_1 \u003d [ m.add_var(name\u003d\u0027MQ1\u0027+str(i)) for i in range(1,25)]\n    \n    GE_2 \u003d [ m.add_var(name\u003d\u0027GE_2\u0027+str(i),ub\u003dLmax,lb\u003d0) for i in range(1,25)]\n    S_2 \u003d [ m.add_var(name\u003d\u0027S_2\u0027+str(i),var_type\u003dBINARY) for i in range(1,25)]\n    IC_2 \u003d [ m.add_var(name\u003d\u0027IC_2\u0027+str(i),var_type\u003dBINARY) for i in range(1,25)]\n    BE_2 \u003d [ m.add_var(name\u003d\u0027BE_2\u0027+str(i)) for i in range(1,25)]\n    RE_2 \u003d [ m.add_var(name\u003d\u0027RE_2\u0027+str(i),ub\u003dRQ2[i-1]) for i in range(1,25) ]\n    SE_2 \u003d [ m.add_var(name\u003d\u0027SE_2\u0027+str(i),ub\u003dMaxC2,lb\u003dMinC2) for i in range(1,25)]\n    ME_2 \u003d [ m.add_var(name\u003d\u0027ME2\u0027+str(i)) for i in range(1,25)]\n    tau_2 \u003d m.add_var(name\u003d\u0027Tau_2\u0027,ub\u003dbeta2)\n    MQ_2 \u003d [ m.add_var(name\u003d\u0027MQ2\u0027+str(i)) for i in range(1,25)]\n    \n    print(\u0027end\u0027)\n    #%%\n    #Contrainte 4\u00265\n    m+\u003d SE_1[0] \u003d\u003d IE1*SD1 + IC_1[0]*SP1*E1-BE_1[0]\n    m+\u003d SE_2[0] \u003d\u003d IE2*SD2 + IC_2[0]*SP2*E2-BE_1[0]\n    \n    for h in range(1,24):\n        m+\u003d SE_1[h] \u003d\u003d SE_1[h-1]*SD1 + IC_1[h]*SP1*E1-BE_1[h]\n        m+\u003d SE_2[h] \u003d\u003d SE_2[h-1]*SD2  + IC_2[h]*SP2*E2-BE_2[h]\n    #Contrainte 8\n    m+\u003d xsum(S_1[h] for h in range(24)) \u003d\u003d t1\n    m+\u003d xsum(S_2[h] for h in range(24)) \u003d\u003d t2\n    #Contrainte 11\n    for h in range(24):\n        m+\u003d (h+1)*S_1[h] \u003c\u003d tau_1\n        m+\u003d (h+1)*S_2[h] \u003c\u003d tau_2\n        \n    #Constrain 25\n    for h in range(0,24):\n            m+\u003d (S_1[h]*P1 + IC_1[h]*SP1 \u003d\u003d GE_1[h] + BE_1[h] + RE_1[h] + ME_1[h]) \n            m+\u003d (S_2[h]*P2 + IC_2[h]*SP2 \u003d\u003d GE_2[h] + BE_2[h] + RE_2[h] + ME_2[h]) \n    #Constrain 24\n    m+\u003d xsum(GPh[h] * GE_1[h] + MP[h] * ME_1[h]  for h in range(24)) + disutility1*tau_1 \u003c\u003d CK_noTrade_1\n    m+\u003d xsum(GPh[h] * GE_2[h]+ MP[h]*ME_2[h] for h in range(24)) + disutility2*tau_2 \u003c\u003d CK_noTrade_2\n    \n    #Constrain 26\n    for h in range(24):\n        m+\u003d ME_1[h]  + ME_2[h]  \u003d\u003d 0\n\n    #Constrain 27\n    for h in range(24):\n        m+\u003d MQ_1[h] \u003d\u003d (S_1[h]*P1+IC_1[h]*SP1 - GE_1[h] - RQ1[h]-SE_1[h] - BE_1[h]) + MinC1\n        m+\u003d MQ_2[h] \u003d\u003d (S_2[h]*P2+IC_2[h]*SP2 - GE_2[h] - RQ2[h]-SE_2[h] - BE_2[h]) + MinC2\n     \n\n    #Constrain 28\n    for h in range(24):\n        m+\u003dME_1[h] \u003e\u003d MQ_1[h]\n        m+\u003dME_2[h] \u003e\u003d MQ_2[h]\n   \n    m.objective \u003d xsum(GPh[h] * GE_1[h] + GPh[h] * GE_2[h] for h in range(24)) + disutility1*tau_1 + disutility2*tau_2\n    \n    m.max_gap \u003d 0.01\n    status \u003d m.optimize(max_seconds\u003d30)\n    if status \u003d\u003d OptimizationStatus.OPTIMAL:\n        print(\u0027optimal solution cost {} found\u0027.format(m.objective_value))\n    elif status \u003d\u003d OptimizationStatus.FEASIBLE:\n        print(\u0027sol.cost {} found, best possible: {}\u0027.format(m.objective_value, m.objective_bound))\n    elif status \u003d\u003d OptimizationStatus.NO_SOLUTION_FOUND:\n        print(\u0027no feasible solution found, lower bound is: {}\u0027.format(m.objective_bound))\n    if status \u003d\u003d OptimizationStatus.OPTIMAL or status \u003d\u003d OptimizationStatus.FEASIBLE:\n        print(\u0027solution:\u0027)\n    if status \u003d\u003d OptimizationStatus.INFEASIBLE:\n                   print(\"Infeasible\")\n    ME_1_out \u003d []\n    ME_2_out \u003d []\n    for i in range(24):\n        ME_1_out.append(m.vars[\u0027ME1\u0027+str(i+1)].x)\n        ME_2_out.append(m.vars[\u0027ME2\u0027+str(i+1)].x)\n    return m.objective_bound,[ME_1_out,ME_2_out]\n    ",
      "metadata": {
        "pycharm": {
          "metadata": false,
          "name": "#%%\n",
          "is_executing": false
        }
      }
    },
    {
      "cell_type": "code",
      "execution_count": 68,
      "outputs": [
        {
          "name": "stdout",
          "text": [
            "End constraint\noptimal solution cost 702.21 found\nsolution:\nEnd constraint\noptimal solution cost 1044.2544 found\nsolution:\nCost at initialization : 1746.4124022410156\n*****************************1**************\nend\nEnd constraint\n",
            "optimal solution cost 5.0186 found\nsolution:\nend\nInfeasible\n"
          ],
          "output_type": "stream"
        },
        {
          "traceback": [
            "\u001b[1;31m---------------------------------------------------------------------------\u001b[0m",
            "\u001b[1;31mTypeError\u001b[0m                                 Traceback (most recent call last)",
            "\u001b[1;32m\u003cipython-input-68-070ada0da2af\u003e\u001b[0m in \u001b[0;36m\u003cmodule\u003e\u001b[1;34m\u001b[0m\n\u001b[0;32m     45\u001b[0m     Ccur, fin \u003d module3(GPh,disutility1,t1,E1,SD1,IE1,P1,MinC1,MaxC1,SP1,RQ1,beta1,Lmax,CK_NoTrade_1,prix\n\u001b[0;32m     46\u001b[0m             ,disutility1,t2,E2,SD2,IE2,P2,MinC2,MaxC2,SP2,RQ2,beta2,CK_NoTrade_2)\n\u001b[1;32m---\u003e 47\u001b[1;33m     \u001b[0mepsilon_cur\u001b[0m \u001b[1;33m\u003d\u001b[0m \u001b[0mabs\u001b[0m\u001b[1;33m(\u001b[0m\u001b[1;33m(\u001b[0m\u001b[0mCpre\u001b[0m \u001b[1;33m-\u001b[0m \u001b[0mCcur\u001b[0m\u001b[1;33m)\u001b[0m\u001b[1;33m/\u001b[0m\u001b[0mCpre\u001b[0m\u001b[1;33m)\u001b[0m\u001b[1;33m\u001b[0m\u001b[1;33m\u001b[0m\u001b[0m\n\u001b[0m\u001b[0;32m     48\u001b[0m     \u001b[1;32mif\u001b[0m \u001b[0mepsilon_cur\u001b[0m \u001b[1;33m\u003c\u003d\u001b[0m \u001b[0mepsilon\u001b[0m\u001b[1;33m:\u001b[0m\u001b[1;33m\u001b[0m\u001b[1;33m\u001b[0m\u001b[0m\n\u001b[0;32m     49\u001b[0m         \u001b[0mepsilon_count\u001b[0m \u001b[1;33m+\u003d\u001b[0m \u001b[1;36m1\u001b[0m\u001b[1;33m\u001b[0m\u001b[1;33m\u001b[0m\u001b[0m\n",
            "\u001b[1;31mTypeError\u001b[0m: unsupported operand type(s) for -: \u0027float\u0027 and \u0027NoneType\u0027"
          ],
          "ename": "TypeError",
          "evalue": "unsupported operand type(s) for -: \u0027float\u0027 and \u0027NoneType\u0027",
          "output_type": "error"
        }
      ],
      "source": "# ECO-TRADE Algorithm\nGPh \u003d [0.13,0.13,0.13,0.13,0.13,0.13,0.13,0.13,0.15,0.15,0.15,0.15,0.15,0.17,0.17,0.17,0.17,0.15,0.15,0.15,0.13,0.13,0.13,0.13]\nLmax \u003d 6000\n#initialisation maison1\ndisutility1 \u003d 0.1\nt1 \u003d 3  # appliance.t\nE1 \u003d 0.1  # storage.E\nIE1 \u003d 2.6 # storage.IE\nSD1 \u003d 1 # storage.sd\nP1 \u003d 1800  # household.p\nMinC1 \u003d 2.6 # min storage\nMaxC1 \u003d 6.4 # max storage\nSP1 \u003d 1\nRQ1 \u003d [1 for _ in range(24)]  # stockage.RQ\nbeta1 \u003d 12 # appliance.beta\n#initialisation maison2\ndisutility1 \u003d 0.2\nt2 \u003d 10  # appliance.t\nE2 \u003d 0.1  # storage.E\nIE2 \u003d 0 # storage.IE\nSD2 \u003d 1 # storage.sd\nP2\u003d 800  # household.p\nMinC2 \u003d 0 # min storage\nMaxC2 \u003d 10 # max storage\nSP2 \u003d 0.1\nRQ2 \u003d [0.1 for _ in range(24)]  # stockage.RQ\nbeta2 \u003d 23 # appliance.beta\n\n\n\nepsilon_count, epsilon_max, Cpre \u003d 0, 0, 0\nCcur, epsilon_cur, epsilon \u003d 1, 0, 0.7\nCK_NoTrade_1,DSK1 \u003d module1(GPh,disutility1,t1,E1,SD1,IE1,P1,MinC1,MaxC1,SP1,RQ1,beta1,Lmax)\nCK_NoTrade_2,DSK2 \u003d module1(GPh,disutility1,t2,E2,SD2,IE2,P2,MinC2,MaxC2,SP2,RQ2,beta2,Lmax)\nCpre \u003d CK_NoTrade_1 + CK_NoTrade_2\n\nprint(\"Cost at initialization :\", Cpre)\ni \u003d 1\nwhile epsilon_count \u003c\u003d epsilon_max:\n    print(\"*****************************\"+str(i)+\"**************\")\n    i+\u003d1\n    \n    prix \u003d module2(GPh,disutility1,t1,E1,SD1,IE1,P1,MinC1,MaxC1,SP1,RQ1,beta1,Lmax,CK_NoTrade_1,DSK1\n            ,disutility1,t2,E2,SD2,IE2,P2,MinC2,MaxC2,SP2,RQ2,beta2,CK_NoTrade_2,DSK2)\n    Ccur, fin \u003d module3(GPh,disutility1,t1,E1,SD1,IE1,P1,MinC1,MaxC1,SP1,RQ1,beta1,Lmax,CK_NoTrade_1,prix\n            ,disutility1,t2,E2,SD2,IE2,P2,MinC2,MaxC2,SP2,RQ2,beta2,CK_NoTrade_2)\n    epsilon_cur \u003d abs((Cpre - Ccur)/Cpre)\n    if epsilon_cur \u003c\u003d epsilon:\n        epsilon_count +\u003d 1\n    else:\n        epsilon_count \u003d 0\n    Cpre \u003d Ccur\n# final solution :\nprint(\"Solution :\", fin)\n\n\n\"\"\"\nprint(\"Cost at initialization :\", Cpre)\nwhile epsilon_count \u003c\u003d epsilon_max:\n    module2()\n    Ccur, x \u003d module3()\n\n    epsilon_cur \u003d abs((Cpre - Ccur)/Cpre)\n    if epsilon_cur \u003c\u003d epsilon:\n        epsilon_count +\u003d 1\n    else:\n        epsilon_count \u003d 0\n    Cpre \u003d Ccur\n\n# final solution :\nprint(\"Solution :\", x)\n\"\"\"",
      "metadata": {
        "pycharm": {
          "metadata": false,
          "name": "#%%\n",
          "is_executing": false
        }
      }
    }
  ],
  "metadata": {
    "language_info": {
      "codemirror_mode": {
        "name": "ipython",
        "version": 2
      },
      "file_extension": ".py",
      "mimetype": "text/x-python",
      "name": "python",
      "nbconvert_exporter": "python",
      "pygments_lexer": "ipython2",
      "version": "2.7.6"
    },
    "kernelspec": {
      "name": "python3",
      "language": "python",
      "display_name": "Python 3"
    }
  },
  "nbformat": 4,
  "nbformat_minor": 0
}