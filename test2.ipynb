{
  "cells": [
    {
      "cell_type": "code",
      "execution_count": 2,
      "metadata": {
        "collapsed": true,
        "pycharm": {
          "is_executing": false
        }
      },
      "outputs": [
        {
          "name": "stdout",
          "text": [
            "hello\n"
          ],
          "output_type": "stream"
        },
        {
          "traceback": [
            "\u001b[1;31m---------------------------------------------------------------------------\u001b[0m",
            "\u001b[1;31mNameError\u001b[0m                                 Traceback (most recent call last)",
            "\u001b[1;32m\u003cipython-input-2-c103242574cb\u003e\u001b[0m in \u001b[0;36m\u003cmodule\u003e\u001b[1;34m\u001b[0m\n\u001b[1;32m----\u003e 1\u001b[1;33m \u001b[1;32mfrom\u001b[0m \u001b[0mmip\u001b[0m \u001b[1;32mimport\u001b[0m \u001b[1;33m*\u001b[0m\u001b[1;33m\u001b[0m\u001b[1;33m\u001b[0m\u001b[0m\n\u001b[0m\u001b[0;32m      2\u001b[0m \u001b[0mprint\u001b[0m\u001b[1;33m(\u001b[0m\u001b[1;34m\"hello\"\u001b[0m\u001b[1;33m)\u001b[0m\u001b[1;33m\u001b[0m\u001b[1;33m\u001b[0m\u001b[0m\n",
            "\u001b[1;32m~\\PycharmProjects\\ville_intelligente\\mip.py\u001b[0m in \u001b[0;36m\u003cmodule\u003e\u001b[1;34m\u001b[0m\n\u001b[0;32m     18\u001b[0m \u001b[0mLmax\u001b[0m \u001b[1;33m\u003d\u001b[0m \u001b[1;36m6000\u001b[0m\u001b[1;33m\u001b[0m\u001b[1;33m\u001b[0m\u001b[0m\n\u001b[0;32m     19\u001b[0m \u001b[1;33m\u001b[0m\u001b[0m\n\u001b[1;32m---\u003e 20\u001b[1;33m \u001b[0mm\u001b[0m \u001b[1;33m\u003d\u001b[0m \u001b[0mModel\u001b[0m\u001b[1;33m(\u001b[0m\u001b[0msense\u001b[0m\u001b[1;33m\u003d\u001b[0m\u001b[0mMINIMIZE\u001b[0m\u001b[1;33m,\u001b[0m\u001b[0msolver_name\u001b[0m\u001b[1;33m\u003d\u001b[0m\u001b[0mCBC\u001b[0m\u001b[1;33m)\u001b[0m\u001b[1;33m\u001b[0m\u001b[1;33m\u001b[0m\u001b[0m\n\u001b[0m\u001b[0;32m     21\u001b[0m \u001b[1;33m\u001b[0m\u001b[0m\n\u001b[0;32m     22\u001b[0m \u001b[0mGE\u001b[0m \u001b[1;33m\u003d\u001b[0m \u001b[1;33m[\u001b[0m \u001b[0mm\u001b[0m\u001b[1;33m.\u001b[0m\u001b[0madd_var\u001b[0m\u001b[1;33m(\u001b[0m\u001b[0mname\u001b[0m\u001b[1;33m\u003d\u001b[0m\u001b[1;34m\u0027GE\u0027\u001b[0m\u001b[1;33m+\u001b[0m\u001b[0mstr\u001b[0m\u001b[1;33m(\u001b[0m\u001b[0mi\u001b[0m\u001b[1;33m)\u001b[0m\u001b[1;33m,\u001b[0m\u001b[0mub\u001b[0m\u001b[1;33m\u003d\u001b[0m\u001b[0mLmax\u001b[0m\u001b[1;33m,\u001b[0m\u001b[0mlb\u001b[0m\u001b[1;33m\u003d\u001b[0m\u001b[1;36m0\u001b[0m\u001b[1;33m)\u001b[0m \u001b[1;32mfor\u001b[0m \u001b[0mi\u001b[0m \u001b[1;32min\u001b[0m \u001b[0mrange\u001b[0m\u001b[1;33m(\u001b[0m\u001b[1;36m1\u001b[0m\u001b[1;33m,\u001b[0m\u001b[1;36m25\u001b[0m\u001b[1;33m)\u001b[0m\u001b[1;33m]\u001b[0m\u001b[1;33m\u001b[0m\u001b[1;33m\u001b[0m\u001b[0m\n",
            "\u001b[1;31mNameError\u001b[0m: name \u0027Model\u0027 is not defined"
          ],
          "ename": "NameError",
          "evalue": "name \u0027Model\u0027 is not defined",
          "output_type": "error"
        }
      ],
      "source": "from mip import *\nprint(\"hello\")"
    },
    {
      "cell_type": "code",
      "execution_count": 11,
      "outputs": [],
      "source": "\nGPh \u003d 0.18\ndisutility \u003d 0.1\nt \u003d 3  # appliance.t\nE \u003d 0.8  # storage.E\nIE \u003d 3 # storage.IE\nSD \u003d 0.01 # storage.sd\nP1 \u003d 1.800  # household.p\nMinC \u003d 2.56 # min storage\nMaxC \u003d 6.4 # max storage\nSP \u003d 1\nRQ \u003d [0.1 for _ in range(24)]  # stockage.RQ\nbeta \u003d 17 # appliance.beta\nLmax \u003d 6000\n\n\n\n\nm \u003d Model(sense\u003dMINIMIZE,solver_name\u003dCBC)\n\nGE \u003d [ m.add_var(name\u003d\u0027GE\u0027+str(i),ub\u003dLmax,lb\u003d0) for i in range(1,25)]\nS \u003d [ m.add_var(name\u003d\u0027S\u0027+str(i),var_type\u003dBINARY) for i in range(1,25)]\nIC \u003d [ m.add_var(name\u003d\u0027IC\u0027+str(i),var_type\u003dBINARY) for i in range(1,25)]\nBE \u003d [ m.add_var(name\u003d\u0027BE\u0027+str(i)) for i in range(1,25)]\nRE \u003d [ m.add_var(name\u003d\u0027RE\u0027+str(i),ub\u003dRQ[i-1]) for i in range(1,25) ]\nSE \u003d [ m.add_var(name\u003d\u0027SE\u0027+str(i),ub\u003dMaxC,lb\u003dMinC) for i in range(1,25)]\ntau \u003d m.add_var(name\u003d\u0027Tau\u0027,ub\u003dbeta)",
      "metadata": {
        "pycharm": {
          "metadata": false,
          "name": "#%%\n",
          "is_executing": false
        }
      }
    },
    {
      "cell_type": "code",
      "execution_count": 12,
      "outputs": [
        {
          "name": "stdout",
          "text": [
            "hi\n"
          ],
          "output_type": "stream"
        }
      ],
      "source": "for h in range(0,24):\n    #Contrainte 3\n    m+\u003d (S[h]*P1 + IC[h]*SP \u003d\u003d GE[h] + BE[h] + RE[h]) \n#Contrainte 3  \nm+\u003d SE[0] \u003d\u003d IE*SD + IC[0]*SP*E-BE[0]\nfor h in range(1,24):\n    m+\u003d SE[h] \u003d\u003d SE[h-1]*SD + IE*SD + IC[0]*SP*E-BE[0]\n#Contrainte 8\nm+\u003d xsum(S[h] for h in range(24)) \u003d\u003d t\n#Contrainte 11\nfor h in range(24):\n    m+\u003d (h+1)*S[h] \u003c\u003d tau\nprint(\"hi\")",
      "metadata": {
        "pycharm": {
          "metadata": false,
          "name": "#%%\n",
          "is_executing": false
        }
      }
    },
    {
      "cell_type": "code",
      "execution_count": 13,
      "outputs": [],
      "source": "m.objective \u003d xsum(GPh * GE[h] for h in range(24)) + disutility*tau",
      "metadata": {
        "pycharm": {
          "metadata": false,
          "name": "#%%\n",
          "is_executing": false
        }
      }
    },
    {
      "cell_type": "code",
      "execution_count": 14,
      "outputs": [],
      "source": "m.max_gap \u003d 0.01\nstatus \u003d m.optimize(max_seconds\u003d30)\nif status \u003d\u003d OptimizationStatus.OPTIMAL:\n    print(\u0027optimal solution cost {} found\u0027.format(m.objective_value))\nelif status \u003d\u003d OptimizationStatus.FEASIBLE:\n    print(\u0027sol.cost {} found, best possible: {}\u0027.format(m.objective_value, m.objective_bound))\nelif status \u003d\u003d OptimizationStatus.NO_SOLUTION_FOUND:\n    print(\u0027no feasible solution found, lower bound is: {}\u0027.format(m.objective_bound))\nif status \u003d\u003d OptimizationStatus.OPTIMAL or status \u003d\u003d OptimizationStatus.FEASIBLE:\n    print(\u0027solution:\u0027)\n    for v in m.vars:\n        print(\u0027{} : {}\u0027.format(v.name, v.x))\n",
      "metadata": {
        "pycharm": {
          "metadata": false,
          "name": "#%%\n",
          "is_executing": false
        }
      }
    }
  ],
  "metadata": {
    "language_info": {
      "codemirror_mode": {
        "name": "ipython",
        "version": 2
      },
      "file_extension": ".py",
      "mimetype": "text/x-python",
      "name": "python",
      "nbconvert_exporter": "python",
      "pygments_lexer": "ipython2",
      "version": "2.7.6"
    },
    "kernelspec": {
      "name": "python3",
      "language": "python",
      "display_name": "Python 3"
    }
  },
  "nbformat": 4,
  "nbformat_minor": 0
}